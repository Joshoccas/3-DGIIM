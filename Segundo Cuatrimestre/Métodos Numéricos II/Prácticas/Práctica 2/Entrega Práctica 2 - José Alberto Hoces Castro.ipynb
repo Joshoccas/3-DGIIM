{
 "cells": [
  {
   "cell_type": "markdown",
   "id": "0f86f661",
   "metadata": {},
   "source": [
    "# Práctica 2: Derivación e integración numérica"
   ]
  },
  {
   "cell_type": "markdown",
   "id": "e722a017",
   "metadata": {},
   "source": [
    "Autor: José Alberto Hoces Castro\n",
    "\n",
    "3º Doble Grado en Ingeniería Informática y Matemáticas"
   ]
  },
  {
   "cell_type": "markdown",
   "id": "a0b812ea",
   "metadata": {},
   "source": [
    "## Ejercicios"
   ]
  },
  {
   "cell_type": "code",
   "execution_count": 1,
   "id": "79a133bc",
   "metadata": {},
   "outputs": [],
   "source": [
    "# Importamos los módulos que van a ser necesarios para la realización de los ejercicios\n",
    "\n",
    "import numpy as np # Importamos el módulo NumPy con el pseudónimo np\n",
    "import sympy as sp # Importamos el módulo SymPy con el pseudónimo sp\n",
    "# sp.init_printing() # con esta opción obtendremos bonitas fórmulas en la pantalla\n",
    "# pero en las últimas versiones de Python parece ser que no hace falta indicarlo\n",
    "\n",
    "# Aquí importaremos dentro del módulo de gráficos Matplotlib el submódulo\n",
    "import matplotlib.pyplot as plt  #  Pyplot con el pseudónimo plt\n",
    "# usaremos una opción para poder visualizar los gráficos incrustados     \n",
    "#  en línea dentro de este mismo notebook    \n",
    "%matplotlib inline  \n",
    "\n",
    "from random import random \n",
    "# Importamos la función generadora de números pseudoaleatorios\n",
    "\n",
    "def mychop(expr, *, max=10**(-15)): \n",
    "    if abs(expr) > max:\n",
    "      return expr \n",
    "    else:\n",
    "      return 0"
   ]
  },
  {
   "cell_type": "markdown",
   "id": "072663cb",
   "metadata": {},
   "source": [
    "1.- Obtenga mediante interpolación en el espacio $\\mathbb{P}_2$ una fórmula para aproximar $f''(a)$ del tipo combinación\n",
    "de $f(a-h)$, $f(a)$ y $f(a+h)$."
   ]
  },
  {
   "cell_type": "code",
   "execution_count": 2,
   "id": "6ad16af2",
   "metadata": {},
   "outputs": [],
   "source": [
    "f = sp.Function('f')\n",
    "a,h = sp.symbols('a,h')\n",
    "x = [a-h,a,a+h] # Estos serán los nodos de interpolación"
   ]
  },
  {
   "cell_type": "code",
   "execution_count": 3,
   "id": "16eda324",
   "metadata": {},
   "outputs": [],
   "source": [
    "y = [f(x[0]),f(x[1]),f(x[2])]  # Estos serán los valores interpolados"
   ]
  },
  {
   "cell_type": "code",
   "execution_count": 4,
   "id": "2b943cad",
   "metadata": {},
   "outputs": [],
   "source": [
    "z = sp.Symbol('z')  # Utilizaremos z como variable simbólica\n",
    "p0 = y[0]  # Comenzamos a construir el polinomio de interpolación\n",
    "p1 = p0 + (z-x[0])/(x[1]-x[0])*(y[1]-y[0]) # usando la idea de Newton"
   ]
  },
  {
   "cell_type": "code",
   "execution_count": 5,
   "id": "034d6cf2",
   "metadata": {},
   "outputs": [
    {
     "data": {
      "text/latex": [
       "$\\displaystyle D \\left(- a + z\\right) \\left(- a + h + z\\right) + f{\\left(a - h \\right)} + \\frac{\\left(f{\\left(a \\right)} - f{\\left(a - h \\right)}\\right) \\left(- a + h + z\\right)}{h}$"
      ],
      "text/plain": [
       "D*(-a + z)*(-a + h + z) + f(a - h) + (f(a) - f(a - h))*(-a + h + z)/h"
      ]
     },
     "execution_count": 5,
     "metadata": {},
     "output_type": "execute_result"
    }
   ],
   "source": [
    "D = sp.Symbol('D')   # D será la correspondiente diferencia dividida\n",
    "p2 = p1 + (z-x[0])*(z-x[1])*D # D = f[x0,x1,x2]\n",
    "p2  # ya tenemos la expresión genérica de dicho polinomio de grado 2"
   ]
  },
  {
   "cell_type": "code",
   "execution_count": 6,
   "id": "42039fcb",
   "metadata": {},
   "outputs": [
    {
     "data": {
      "text/plain": [
       "(True, True)"
      ]
     },
     "execution_count": 6,
     "metadata": {},
     "output_type": "execute_result"
    }
   ],
   "source": [
    "p2.subs({z:x[0]})==y[0],p2.subs({z:x[1]})==y[1] \n",
    "# Comprobamos que interpola y0 e y1"
   ]
  },
  {
   "cell_type": "code",
   "execution_count": 7,
   "id": "d2b523b6",
   "metadata": {},
   "outputs": [
    {
     "data": {
      "text/plain": [
       "[(-2*f(a) + f(a - h) + f(a + h))/(2*h**2)]"
      ]
     },
     "execution_count": 7,
     "metadata": {},
     "output_type": "execute_result"
    }
   ],
   "source": [
    "# Pero también se debe garantizar que p(x2) = y2\n",
    "sol2=sp.solve(p2.subs({z:x[2]})-y[2],D)  # para ello resolvemos\n",
    "sol2    # La ecuación correspondiente y despejamos el valor de D"
   ]
  },
  {
   "cell_type": "code",
   "execution_count": 8,
   "id": "0ad6f0fd",
   "metadata": {},
   "outputs": [
    {
     "data": {
      "text/latex": [
       "$\\displaystyle f{\\left(a - h \\right)} + \\frac{\\left(f{\\left(a \\right)} - f{\\left(a - h \\right)}\\right) \\left(- a + h + z\\right)}{h} + \\frac{\\left(- a + z\\right) \\left(- a + h + z\\right) \\left(- 2 f{\\left(a \\right)} + f{\\left(a - h \\right)} + f{\\left(a + h \\right)}\\right)}{2 h^{2}}$"
      ],
      "text/plain": [
       "f(a - h) + (f(a) - f(a - h))*(-a + h + z)/h + (-a + z)*(-a + h + z)*(-2*f(a) + f(a - h) + f(a + h))/(2*h**2)"
      ]
     },
     "execution_count": 8,
     "metadata": {},
     "output_type": "execute_result"
    }
   ],
   "source": [
    "D = sol2[0]\n",
    "p2 = p1 + (z-x[0])*(z-x[1])*D\n",
    "p2  # Obtenemos el polinomio final de interpolación"
   ]
  },
  {
   "cell_type": "code",
   "execution_count": 9,
   "id": "1bbd695a",
   "metadata": {},
   "outputs": [
    {
     "data": {
      "text/plain": [
       "True"
      ]
     },
     "execution_count": 9,
     "metadata": {},
     "output_type": "execute_result"
    }
   ],
   "source": [
    "p2.subs({z:x[2]})==y[2] # Comprobamos que también interpola el valor y[2]"
   ]
  },
  {
   "cell_type": "markdown",
   "id": "2b2d6a06",
   "metadata": {},
   "source": [
    "Ahora para obtener la correspondiente fórmula de derivación numérica, bastará con derivar dicho polinomio respecto de la variable independiente dos veces y evaluar en el punto donde queremos aproximar la segunda derivada."
   ]
  },
  {
   "cell_type": "code",
   "execution_count": 10,
   "id": "15fafbd6",
   "metadata": {},
   "outputs": [
    {
     "data": {
      "text/latex": [
       "$\\displaystyle \\frac{- 2 f{\\left(a \\right)} + f{\\left(a - h \\right)} + f{\\left(a + h \\right)}}{h^{2}}$"
      ],
      "text/plain": [
       "(-2*f(a) + f(a - h) + f(a + h))/h**2"
      ]
     },
     "execution_count": 10,
     "metadata": {},
     "output_type": "execute_result"
    }
   ],
   "source": [
    "sp.diff(p2,z,2)"
   ]
  },
  {
   "cell_type": "markdown",
   "id": "8190a1de",
   "metadata": {},
   "source": [
    "2.- Con la fórmula obtenida en el ejercicio 1, halle una tabla de aproximaciones y errores de $f_1''(2.5)$, siendo $f_1(x)=x^x$, para $h=10^{-i},\\; i=1,\\ldots,5.$"
   ]
  },
  {
   "cell_type": "code",
   "execution_count": 11,
   "id": "662b4c87",
   "metadata": {},
   "outputs": [],
   "source": [
    "def formula(f,a,h):\n",
    "    return (-2*f(a)+f(a-h)+f(a+h))/(h**2)"
   ]
  },
  {
   "cell_type": "code",
   "execution_count": 12,
   "id": "edf3fdd0",
   "metadata": {},
   "outputs": [],
   "source": [
    "def f1(z):\n",
    "    return z**z"
   ]
  },
  {
   "cell_type": "code",
   "execution_count": 13,
   "id": "da36511a",
   "metadata": {},
   "outputs": [
    {
     "data": {
      "text/latex": [
       "$\\displaystyle 40.2416648563875$"
      ],
      "text/plain": [
       "40.2416648563875"
      ]
     },
     "execution_count": 13,
     "metadata": {},
     "output_type": "execute_result"
    }
   ],
   "source": [
    "# Guardamos el valor de la segunda derivada de f1 en 2.5 para el posterior\n",
    "# cálculo de los errores\n",
    "\n",
    "valor_exacto = sp.diff(f1(z),z,2).subs({z:2.5})\n",
    "valor_exacto"
   ]
  },
  {
   "cell_type": "code",
   "execution_count": 14,
   "id": "093fad5c",
   "metadata": {},
   "outputs": [
    {
     "data": {
      "text/plain": [
       "[40.42056829795832,\n",
       " 40.243450230939004,\n",
       " 40.24168270788664,\n",
       " 40.24166475602442,\n",
       " 40.24164113047845]"
      ]
     },
     "execution_count": 14,
     "metadata": {},
     "output_type": "execute_result"
    }
   ],
   "source": [
    "# Calculamos las 5 iteraciones que nos piden\n",
    "\n",
    "aproximaciones = []\n",
    "for i in range(1,6):\n",
    "    aproximaciones.append(formula(lambda z: z**z, 2.5, 10**(-i)))\n",
    "\n",
    "aproximaciones"
   ]
  },
  {
   "cell_type": "code",
   "execution_count": 15,
   "id": "43827eff",
   "metadata": {},
   "outputs": [
    {
     "data": {
      "text/plain": [
       "[0.178903441570853,\n",
       " 0.00178537455153815,\n",
       " 1.78514991731049e-5,\n",
       " 1.00363045874019e-7,\n",
       " 2.37259090170028e-5]"
      ]
     },
     "execution_count": 15,
     "metadata": {},
     "output_type": "execute_result"
    }
   ],
   "source": [
    "# Calculamos los 5 errores asociados a las aproximaciones\n",
    "\n",
    "errores = []\n",
    "for i in range(5):\n",
    "    errores.append(abs(valor_exacto - aproximaciones[i]))\n",
    "\n",
    "errores"
   ]
  },
  {
   "cell_type": "markdown",
   "id": "04c6658f",
   "metadata": {},
   "source": [
    "3.- Sea $f_2(x)=\\frac{x^2+40}{x+\\sqrt{5x}+7}$. Calcule una tabla que recoja las derivadas de $f_2$ en $x_i=1,2,\\ldots,10$, utilizando alguna de las fórmulas de derivación numérica de primer orden obtenidas al inicio de la práctica, con $h=10^{-3}$, y muestre al mismo tiempo el error cometido en cada punto. Repita el ejercicio con la fórmula centrada obtenida para la derivada primera y, finalmente, para la obtenida en el ejercicio 1 (con respecto a la segunda derivada)."
   ]
  },
  {
   "cell_type": "code",
   "execution_count": 16,
   "id": "a3d70e90",
   "metadata": {},
   "outputs": [],
   "source": [
    "def f2(z):\n",
    "    return (z**2 + 40)/(z + (5*z)**(1/2) + 7)"
   ]
  },
  {
   "cell_type": "markdown",
   "id": "6b0a8636",
   "metadata": {},
   "source": [
    "Para calcular las derivadas de primer orden en $x_i=1,2,\\ldots,10$ comenzaremos usando la primera fórmula de todas que se deduce en los apuntes de la práctica:\n",
    "\n",
    "$f'(a) \\approx p'(a) = \\frac{f(a+h)-f(a)}{h}$"
   ]
  },
  {
   "cell_type": "code",
   "execution_count": 17,
   "id": "c664edbd",
   "metadata": {},
   "outputs": [],
   "source": [
    "def formula1(f,a,h):\n",
    "    return (-f(a)+f(a+h))/h"
   ]
  },
  {
   "cell_type": "code",
   "execution_count": 18,
   "id": "d50a3c77",
   "metadata": {},
   "outputs": [
    {
     "data": {
      "text/plain": [
       "[-0.633413841504903,\n",
       " -0.203729991363422,\n",
       " 0.0135536765957583,\n",
       " 0.152356382446352,\n",
       " 0.250865051903114,\n",
       " 0.325234486346073,\n",
       " 0.383753089267232,\n",
       " 0.431201820656649,\n",
       " 0.470566739057635,\n",
       " 0.503824070415537]"
      ]
     },
     "execution_count": 18,
     "metadata": {},
     "output_type": "execute_result"
    }
   ],
   "source": [
    "valores_exactos = []\n",
    "for i in range(1,11):\n",
    "    valores_exactos.append(sp.diff(f2(z),z).subs({z:i}))\n",
    "\n",
    "valores_exactos"
   ]
  },
  {
   "cell_type": "code",
   "execution_count": 19,
   "id": "5a0edbeb",
   "metadata": {},
   "outputs": [
    {
     "data": {
      "text/plain": [
       "[-0.6330758508230616,\n",
       " -0.20358841102519065,\n",
       " 0.013637834543889227,\n",
       " 0.15241382963759875,\n",
       " 0.2509073591920874,\n",
       " 0.32526720196468517,\n",
       " 0.3837792735330581,\n",
       " 0.43122332479583747,\n",
       " 0.47058475905004116,\n",
       " 0.5038394181333672]"
      ]
     },
     "execution_count": 19,
     "metadata": {},
     "output_type": "execute_result"
    }
   ],
   "source": [
    "aproximaciones = []\n",
    "for i in range(1,11):\n",
    "    aproximaciones.append(formula1(f2, i, 10**(-3)))\n",
    "\n",
    "aproximaciones"
   ]
  },
  {
   "cell_type": "code",
   "execution_count": 20,
   "id": "fd5aa50d",
   "metadata": {},
   "outputs": [],
   "source": [
    "errores = []\n",
    "for i in range(10):\n",
    "    errores.append(abs(valores_exactos[i] - aproximaciones[i]))"
   ]
  },
  {
   "cell_type": "code",
   "execution_count": 21,
   "id": "0a566a99",
   "metadata": {},
   "outputs": [
    {
     "name": "stdout",
     "output_type": "stream",
     "text": [
      "FÓRMULA USADA: (-f(a) + f(a + h))/h\n",
      "\n",
      "x_i\tValor exacto\t\tAproximación\t\tError\n",
      "-\t------------\t\t------------\t\t-----\n",
      "1\t-0.633413841504903\t-0.6330758508230616\t0.000337990681841038\n",
      "2\t-0.203729991363422\t-0.20358841102519065\t0.000141580338231473\n",
      "3\t0.0135536765957583\t0.013637834543889227\t0.0000841579481308807\n",
      "4\t0.152356382446352\t0.15241382963759875\t0.0000574471912467844\n",
      "5\t0.250865051903114\t0.2509073591920874\t0.0000423072889731979\n",
      "6\t0.325234486346073\t0.32526720196468517\t0.0000327156186125110\n",
      "7\t0.383753089267232\t0.3837792735330581\t0.0000261842658260680\n",
      "8\t0.431201820656649\t0.43122332479583747\t0.0000215041391883886\n",
      "9\t0.470566739057635\t0.47058475905004116\t0.0000180199924058044\n",
      "10\t0.503824070415537\t0.5038394181333672\t0.0000153477178297390\n"
     ]
    }
   ],
   "source": [
    "# Finalmente mostramos en formato de tabla las aproximaciones y sus errores\n",
    "\n",
    "print(\"FÓRMULA USADA: {}\\n\".format(formula1(f,a,h)))\n",
    "print(\"x_i\\tValor exacto\\t\\tAproximación\\t\\tError\")\n",
    "print(\"-\\t------------\\t\\t------------\\t\\t-----\")\n",
    "\n",
    "for i in range(10):\n",
    "    print(\"{}\\t{}\\t{}\\t{}\".format(i+1, valores_exactos[i], aproximaciones[i], errores[i]))"
   ]
  },
  {
   "cell_type": "markdown",
   "id": "4a07d18d",
   "metadata": {},
   "source": [
    "Ahora vamos a hacer exactamente lo mismo pero para la fórmula centrada para la derivada primera:\n",
    "\n",
    "$f'(a) \\approx p'(a) = \\frac{f(a+h)-f(a-h)}{2h}$"
   ]
  },
  {
   "cell_type": "code",
   "execution_count": 22,
   "id": "bd0ea713",
   "metadata": {},
   "outputs": [],
   "source": [
    "def formula2(f,a,h):\n",
    "    return (-f(a-h)+f(a+h))/(2*h)"
   ]
  },
  {
   "cell_type": "code",
   "execution_count": 23,
   "id": "450b5ba8",
   "metadata": {},
   "outputs": [
    {
     "data": {
      "text/plain": [
       "[-0.6334139834538455,\n",
       " -0.20373002121565342,\n",
       " 0.013553664382381925,\n",
       " 0.15235637597976748,\n",
       " 0.25086504797688924,\n",
       " 0.3252344837485488,\n",
       " 0.38375308744642567,\n",
       " 0.4312018193228795,\n",
       " 0.4705667380475731,\n",
       " 0.50382406963001]"
      ]
     },
     "execution_count": 23,
     "metadata": {},
     "output_type": "execute_result"
    }
   ],
   "source": [
    "aproximaciones = []\n",
    "for i in range(1,11):\n",
    "    aproximaciones.append(formula2(f2, i, 10**(-3)))\n",
    "\n",
    "aproximaciones"
   ]
  },
  {
   "cell_type": "code",
   "execution_count": 24,
   "id": "513e0b52",
   "metadata": {},
   "outputs": [],
   "source": [
    "errores = []\n",
    "for i in range(10):\n",
    "    errores.append(abs(valores_exactos[i] - aproximaciones[i]))"
   ]
  },
  {
   "cell_type": "code",
   "execution_count": 25,
   "id": "0925d97c",
   "metadata": {},
   "outputs": [
    {
     "name": "stdout",
     "output_type": "stream",
     "text": [
      "FÓRMULA USADA: (-f(a - h) + f(a + h))/(2*h)\n",
      "\n",
      "x_i\tValor exacto\t\tAproximación\t\tError\n",
      "-\t------------\t\t------------\t\t-----\n",
      "1\t-0.633413841504903\t-0.6334139834538455\t1.41948942822268E-7\n",
      "2\t-0.203729991363422\t-0.20373002121565342\t2.98522312980332E-8\n",
      "3\t0.0135536765957583\t0.013553664382381925\t1.22133764213217E-8\n",
      "4\t0.152356382446352\t0.15235637597976748\t6.46658449010573E-9\n",
      "5\t0.250865051903114\t0.25086504797688924\t3.92622495626327E-9\n",
      "6\t0.325234486346073\t0.3252344837485488\t2.59752386266854E-9\n",
      "7\t0.383753089267232\t0.38375308744642567\t1.82080633903681E-9\n",
      "8\t0.431201820656649\t0.4312018193228795\t1.33376959476905E-9\n",
      "9\t0.470566739057635\t0.4705667380475731\t1.01006225605715E-9\n",
      "10\t0.503824070415537\t0.50382406963001\t7.85527420887888E-10\n"
     ]
    }
   ],
   "source": [
    "# Finalmente mostramos en formato de tabla las aproximaciones y sus errores\n",
    "\n",
    "print(\"FÓRMULA USADA: {}\\n\".format(formula2(f,a,h)))\n",
    "print(\"x_i\\tValor exacto\\t\\tAproximación\\t\\tError\")\n",
    "print(\"-\\t------------\\t\\t------------\\t\\t-----\")\n",
    "\n",
    "for i in range(10):\n",
    "    print(\"{}\\t{}\\t{}\\t{}\".format(i+1, valores_exactos[i], aproximaciones[i], errores[i]))"
   ]
  },
  {
   "cell_type": "markdown",
   "id": "3e25d9db",
   "metadata": {},
   "source": [
    "Y por último volvemos a realizar de nuevo 10 aproximaciones con sus respectivos errores pero de la segunda derivada con la fórmula deducida en el ejercicio 1:\n",
    "\n",
    "$f''(a) \\approx p'(a) = \\frac{-2f(a) + f(a-h) + f(a+h)}{h^2}$"
   ]
  },
  {
   "cell_type": "code",
   "execution_count": 26,
   "id": "ba5127f9",
   "metadata": {},
   "outputs": [
    {
     "data": {
      "text/plain": [
       "[0.676265098285376,\n",
       " 0.283220364176106,\n",
       " 0.168340319928121,\n",
       " 0.114907312895053,\n",
       " 0.0846224302869937,\n",
       " 0.0654364313639429,\n",
       " 0.0523721743690358,\n",
       " 0.0430109449028751,\n",
       " 0.0360420057237485,\n",
       " 0.0306970066620211]"
      ]
     },
     "execution_count": 26,
     "metadata": {},
     "output_type": "execute_result"
    }
   ],
   "source": [
    "valores_exactos = []\n",
    "for i in range(1,11):\n",
    "    valores_exactos.append(sp.diff(f2(z),z,2).subs({z:i}))\n",
    "\n",
    "valores_exactos"
   ]
  },
  {
   "cell_type": "code",
   "execution_count": 27,
   "id": "87f1b1a5",
   "metadata": {},
   "outputs": [
    {
     "data": {
      "text/plain": [
       "[0.6762652615677212,\n",
       " 0.2832203809255418,\n",
       " 0.1683403230146041,\n",
       " 0.11490731566254908,\n",
       " 0.08462243039630835,\n",
       " 0.06543643227274742,\n",
       " 0.05237217326481414,\n",
       " 0.04301094591596666,\n",
       " 0.036042004936120975,\n",
       " 0.03069700671431974]"
      ]
     },
     "execution_count": 27,
     "metadata": {},
     "output_type": "execute_result"
    }
   ],
   "source": [
    "aproximaciones = []\n",
    "for i in range(1,11):\n",
    "    aproximaciones.append(formula(f2, i, 10**(-3)))\n",
    "\n",
    "aproximaciones"
   ]
  },
  {
   "cell_type": "code",
   "execution_count": 28,
   "id": "2b3a68f4",
   "metadata": {},
   "outputs": [],
   "source": [
    "errores = []\n",
    "for i in range(10):\n",
    "    errores.append(abs(valores_exactos[i] - aproximaciones[i]))"
   ]
  },
  {
   "cell_type": "code",
   "execution_count": 29,
   "id": "bcc6c0e5",
   "metadata": {},
   "outputs": [
    {
     "name": "stdout",
     "output_type": "stream",
     "text": [
      "FÓRMULA USADA: (-2*f(a) + f(a - h) + f(a + h))/h**2\n",
      "\n",
      "x_i\tValor exacto\t\tAproximación\t\tError\n",
      "-\t------------\t\t------------\t\t-----\n",
      "1\t0.676265098285376\t0.6762652615677212\t1.63282345311266E-7\n",
      "2\t0.283220364176106\t0.2832203809255418\t1.67494356717590E-8\n",
      "3\t0.168340319928121\t0.1683403230146041\t3.08648318014804E-9\n",
      "4\t0.114907312895053\t0.11490731566254908\t2.76749589911418E-9\n",
      "5\t0.0846224302869937\t0.08462243039630835\t1.09314654550552E-10\n",
      "6\t0.0654364313639429\t0.06543643227274742\t9.08804489996307E-10\n",
      "7\t0.0523721743690358\t0.05237217326481414\t1.10422163079882E-9\n",
      "8\t0.0430109449028751\t0.04301094591596666\t1.01309156202989E-9\n",
      "9\t0.0360420057237485\t0.036042004936120975\t7.87627567333526E-10\n",
      "10\t0.0306970066620211\t0.03069700671431974\t5.22986827455885E-11\n"
     ]
    }
   ],
   "source": [
    "# Finalmente mostramos en formato de tabla las aproximaciones y sus errores\n",
    "\n",
    "print(\"FÓRMULA USADA: {}\\n\".format(formula(f,a,h)))\n",
    "print(\"x_i\\tValor exacto\\t\\tAproximación\\t\\tError\")\n",
    "print(\"-\\t------------\\t\\t------------\\t\\t-----\")\n",
    "\n",
    "for i in range(10):\n",
    "    print(\"{}\\t{}\\t{}\\t{}\".format(i+1, valores_exactos[i], aproximaciones[i], errores[i]))"
   ]
  },
  {
   "cell_type": "markdown",
   "id": "cf56d257",
   "metadata": {},
   "source": [
    "4.- Divida el intervalo $[1,2]$ en 100 partes iguales y aplique las fórmulas del rectángulo, Simpson y trapecio compuestas para aproximar la integral en dicho intervalo de $f_1$. Compare dichos resultados."
   ]
  },
  {
   "cell_type": "markdown",
   "id": "3735b3fa",
   "metadata": {},
   "source": [
    "Comenzamos empleando las fórmulas compuestas del rectángulo, que al tratarse de una partición uniforme, usaremos la siguiente fórmula:\n",
    "\n",
    "$$\\int_a^b f(x)\\,dx \\simeq h \\sum_{i=0}^{n-1} f(\\psi_i)$$\n",
    "con $\\psi_i = a+ i h, a+(i+1) h$ o bien $a+ (i+1/2)h$ en los casos del rectángulo izquierda, derecha o punto medio respectivamente."
   ]
  },
  {
   "cell_type": "code",
   "execution_count": 30,
   "id": "a79cbef6",
   "metadata": {},
   "outputs": [
    {
     "data": {
      "text/latex": [
       "$\\displaystyle \\int\\limits_{1}^{2} z^{z}\\, dz$"
      ],
      "text/plain": [
       "Integral(z**z, (z, 1, 2))"
      ]
     },
     "execution_count": 30,
     "metadata": {},
     "output_type": "execute_result"
    }
   ],
   "source": [
    "val_exacto = sp.integrate(f1(z),(z,1,2))\n",
    "val_exacto"
   ]
  },
  {
   "cell_type": "code",
   "execution_count": 31,
   "id": "480b3f4c",
   "metadata": {},
   "outputs": [
    {
     "data": {
      "text/plain": [
       "2.050446234534731"
      ]
     },
     "execution_count": 31,
     "metadata": {},
     "output_type": "execute_result"
    }
   ],
   "source": [
    "# Como da un valor numérico, habrá que usar quad\n",
    "\n",
    "import scipy.integrate as spi\n",
    "\n",
    "val_exacto, error = spi.quad(f1, 1, 2)\n",
    "val_exacto"
   ]
  },
  {
   "cell_type": "code",
   "execution_count": 32,
   "id": "84c6f6b9",
   "metadata": {},
   "outputs": [],
   "source": [
    "# Comenzamos con el rectángulo izquierda\n",
    "\n",
    "def formrectangizda(f,a,b,nx):\n",
    "    \"\"\"fórmula compuesta de los rectangulos a izquierda\"\"\"\n",
    "    h = (b-a)/nx\n",
    "    return h*sum([f(a+i*h) for i in range(0,nx)])"
   ]
  },
  {
   "cell_type": "code",
   "execution_count": 33,
   "id": "42e71718",
   "metadata": {},
   "outputs": [
    {
     "data": {
      "text/plain": [
       "2.0354943390855573"
      ]
     },
     "execution_count": 33,
     "metadata": {},
     "output_type": "execute_result"
    }
   ],
   "source": [
    "aproximaciones = []\n",
    "\n",
    "val1 = formrectangizda(f1,1,2,100)\n",
    "aproximaciones.append(val1)\n",
    "val1"
   ]
  },
  {
   "cell_type": "code",
   "execution_count": 34,
   "id": "c40166d4",
   "metadata": {},
   "outputs": [],
   "source": [
    "# Fórmula rectángulo derecha\n",
    "\n",
    "def formrectangdcha(f,a,b,nx):\n",
    "    \"\"\"fórmula compuesta de los rectangulos a la derecha\"\"\"\n",
    "    h = (b-a)/nx\n",
    "    return h*sum([f(a+(i+1)*h) for i in range(0,nx)])"
   ]
  },
  {
   "cell_type": "code",
   "execution_count": 35,
   "id": "1f128df0",
   "metadata": {},
   "outputs": [
    {
     "data": {
      "text/plain": [
       "2.065494339085557"
      ]
     },
     "execution_count": 35,
     "metadata": {},
     "output_type": "execute_result"
    }
   ],
   "source": [
    "val2 = formrectangdcha(f1,1,2,100)\n",
    "aproximaciones.append(val2)\n",
    "val2"
   ]
  },
  {
   "cell_type": "code",
   "execution_count": 36,
   "id": "17b08526",
   "metadata": {},
   "outputs": [],
   "source": [
    "# Fórmula rectángulo punto medio\n",
    "\n",
    "def formrectangptomedio(f,a,b,nx):\n",
    "    \"\"\"fórmula compuesta de los rectangulos de punto medio\"\"\"\n",
    "    h = (b-a)/nx\n",
    "    return h*sum([f(a+(i+1/2)*h) for i in range(0,nx)])"
   ]
  },
  {
   "cell_type": "code",
   "execution_count": 37,
   "id": "0e6dfec8",
   "metadata": {},
   "outputs": [
    {
     "data": {
      "text/plain": [
       "2.050422182392515"
      ]
     },
     "execution_count": 37,
     "metadata": {},
     "output_type": "execute_result"
    }
   ],
   "source": [
    "val3 = formrectangptomedio(f1,1,2,100)\n",
    "aproximaciones.append(val3)\n",
    "val3"
   ]
  },
  {
   "cell_type": "markdown",
   "id": "7b9cc827",
   "metadata": {},
   "source": [
    "Por último, nos falta aplicar las fórmulas compuestas de Simpson y los trapecios para particiones uniformes, que son respectivamente:\n",
    "\n",
    "$$\\frac{h}{3}\\,\\left(f(a)+2\\sum_{i=1}^{n-1}f(x_{2i})\n",
    "+4\\sum_{i=1}^{n}f(x_{2i-1}) + f(b) \\right)\n",
    "$$\n",
    "\n",
    "$$\\frac{h}{2}\\left( f(a)+2\\sum_{i=1}^{n-1}f(a+i\\,h)+f(b)\\right)$$ "
   ]
  },
  {
   "cell_type": "code",
   "execution_count": 38,
   "id": "e856d857",
   "metadata": {},
   "outputs": [],
   "source": [
    "# Fórmula compuesta de Simpson\n",
    "\n",
    "def formsimpson(f,a,b,nx):\n",
    "    h = (b-a)/nx\n",
    "    m = int(nx/2) #Redondeamos\n",
    "    E = f(a)+f(b)\n",
    "    I = sum([f(a+(2*i-1)*h) for i in range(1,m+1)])\n",
    "    P = sum([f(a+2*i*h) for i in range(1,m)])\n",
    "\n",
    "    return h/3*(E+2*P+4*I)"
   ]
  },
  {
   "cell_type": "code",
   "execution_count": 39,
   "id": "4879859d",
   "metadata": {},
   "outputs": [
    {
     "data": {
      "text/plain": [
       "2.050446235955426"
      ]
     },
     "execution_count": 39,
     "metadata": {},
     "output_type": "execute_result"
    }
   ],
   "source": [
    "val4 = formsimpson(f1,1,2,100)\n",
    "aproximaciones.append(val4)\n",
    "val4"
   ]
  },
  {
   "cell_type": "code",
   "execution_count": 40,
   "id": "e2c1fbd8",
   "metadata": {},
   "outputs": [],
   "source": [
    "# Fórmula compuesta de los trapecios\n",
    "\n",
    "def formtrapecios(f,a,b,nx):\n",
    "    \"\"\"fórmula compuesta de los trapecios\"\"\"\n",
    "    h = (b-a)/nx\n",
    "    return h/2*(f(a)+2*sum([f(a+i*h) for i in range(1,nx)])+f(b))"
   ]
  },
  {
   "cell_type": "code",
   "execution_count": 41,
   "id": "66ceb266",
   "metadata": {},
   "outputs": [
    {
     "data": {
      "text/plain": [
       "2.0504943390855574"
      ]
     },
     "execution_count": 41,
     "metadata": {},
     "output_type": "execute_result"
    }
   ],
   "source": [
    "val5 = formtrapecios(f1,1,2,100)\n",
    "aproximaciones.append(val5)\n",
    "val5"
   ]
  },
  {
   "cell_type": "code",
   "execution_count": 42,
   "id": "cb2f658e",
   "metadata": {},
   "outputs": [],
   "source": [
    "# Ahora calculamos los errores asociados a las 5 aproximaciones\n",
    "\n",
    "errores = []\n",
    "\n",
    "errores = []\n",
    "for i in range(5):\n",
    "    errores.append(abs(val_exacto - aproximaciones[i]))"
   ]
  },
  {
   "cell_type": "code",
   "execution_count": 43,
   "id": "406294be",
   "metadata": {},
   "outputs": [
    {
     "name": "stdout",
     "output_type": "stream",
     "text": [
      "Valor \"exacto\": ´2.050446234534731\n",
      "\n",
      "Fórmula\t\tAproximación\t\tError\n",
      "-------\t\t------------\t\t-----\n",
      "formrectangizda\t2.0354943390855573\t0.014951895449173858\n",
      "formrectangdcha\t2.065494339085557\t0.015048104550825947\n",
      "formrectangptomedio\t2.050422182392515\t2.4052142216124395e-05\n",
      "formsimpson\t2.050446235955426\t1.4206946730155323e-09\n",
      "formtrapecios\t2.0504943390855574\t4.8104550826266745e-05\n"
     ]
    }
   ],
   "source": [
    "# Y para hacer la comparación final, mostramos en formato de tabla las 5 aproximaciones con sus respectivos errores\n",
    "\n",
    "print(\"Valor \\\"exacto\\\": ´{}\\n\".format(val_exacto)) #Entre comillas porque no es exacto\n",
    "\n",
    "print(\"Fórmula\\t\\tAproximación\\t\\tError\")\n",
    "print(\"-------\\t\\t------------\\t\\t-----\")\n",
    "print(\"{}\\t{}\\t{}\".format('formrectangizda', aproximaciones[0], errores[0]))\n",
    "print(\"{}\\t{}\\t{}\".format('formrectangdcha', aproximaciones[1], errores[1]))\n",
    "print(\"{}\\t{}\\t{}\".format('formrectangptomedio', aproximaciones[2], errores[2]))\n",
    "print(\"{}\\t{}\\t{}\".format('formsimpson', aproximaciones[3], errores[3]))\n",
    "print(\"{}\\t{}\\t{}\".format('formtrapecios', aproximaciones[4], errores[4]))"
   ]
  },
  {
   "cell_type": "markdown",
   "id": "23943c28",
   "metadata": {},
   "source": [
    "5.- Repita el ejercicio 4 para $f_2$. "
   ]
  },
  {
   "cell_type": "code",
   "execution_count": 44,
   "id": "ad503afd",
   "metadata": {},
   "outputs": [
    {
     "data": {
      "text/latex": [
       "$\\displaystyle 3.77658111776791$"
      ],
      "text/plain": [
       "3.77658111776791"
      ]
     },
     "execution_count": 44,
     "metadata": {},
     "output_type": "execute_result"
    }
   ],
   "source": [
    "val_exacto = sp.integrate(f2(z),(z,1,2))\n",
    "val_exacto = val_exacto.evalf()\n",
    "val_exacto"
   ]
  },
  {
   "cell_type": "code",
   "execution_count": 45,
   "id": "238b69e2",
   "metadata": {},
   "outputs": [
    {
     "data": {
      "text/plain": [
       "3.77658469845732"
      ]
     },
     "execution_count": 45,
     "metadata": {},
     "output_type": "execute_result"
    }
   ],
   "source": [
    "aproximaciones = []\n",
    "\n",
    "val1 = formrectangizda(f2,1,2,100)\n",
    "aproximaciones.append(val1)\n",
    "val1\n",
    "\n",
    "val2= formrectangdcha(f2,1,2,100)\n",
    "aproximaciones.append(val2)\n",
    "val2\n",
    "\n",
    "val3=formrectangptomedio(f2,1,2,100)\n",
    "aproximaciones.append(val3)\n",
    "val3\n",
    "\n",
    "val4=formsimpson(f2,1,2,100)\n",
    "aproximaciones.append(val4)\n",
    "val4\n",
    "\n",
    "val5=formtrapecios(f2,1,2,100)\n",
    "aproximaciones.append(val5)\n",
    "val5"
   ]
  },
  {
   "cell_type": "code",
   "execution_count": 46,
   "id": "cf45aace",
   "metadata": {},
   "outputs": [],
   "source": [
    "errores = []\n",
    "\n",
    "errores = []\n",
    "for i in range(5):\n",
    "    errores.append(abs(val_exacto - aproximaciones[i]))"
   ]
  },
  {
   "cell_type": "code",
   "execution_count": 47,
   "id": "83b49aa5",
   "metadata": {},
   "outputs": [
    {
     "name": "stdout",
     "output_type": "stream",
     "text": [
      "Valor \"exacto\": ´3.77658111776791\n",
      "\n",
      "Fórmula\t\tAproximación\t\tError\n",
      "-------\t\t------------\t\t-----\n",
      "formrectangizda\t3.778523202782093\t0.00194208501418380\n",
      "formrectangdcha\t3.774646194132547\t0.00193492363536230\n",
      "formrectangptomedio\t3.7765793274267083\t0.00000179034120106891\n",
      "formsimpson\t3.776581117805272\t3.73625574923153E-11\n",
      "formtrapecios\t3.77658469845732\t0.00000358068941075373\n"
     ]
    }
   ],
   "source": [
    "print(\"Valor \\\"exacto\\\": ´{}\\n\".format(val_exacto)) #Entre comillas porque no es exacto\n",
    "\n",
    "print(\"Fórmula\\t\\tAproximación\\t\\tError\")\n",
    "print(\"-------\\t\\t------------\\t\\t-----\")\n",
    "print(\"{}\\t{}\\t{}\".format('formrectangizda', aproximaciones[0], errores[0]))\n",
    "print(\"{}\\t{}\\t{}\".format('formrectangdcha', aproximaciones[1], errores[1]))\n",
    "print(\"{}\\t{}\\t{}\".format('formrectangptomedio', aproximaciones[2], errores[2]))\n",
    "print(\"{}\\t{}\\t{}\".format('formsimpson', aproximaciones[3], errores[3]))\n",
    "print(\"{}\\t{}\\t{}\".format('formtrapecios', aproximaciones[4], errores[4]))"
   ]
  },
  {
   "cell_type": "markdown",
   "id": "cc9d6e51",
   "metadata": {},
   "source": [
    "6.- Sea $f_3(x)=x^{15} e^x$ en $[0,2]$. Vamos a dividir el intervalo en $10\\times 2^n$ subintervalos, es decir, $10,\\,20,\\,40,\\, 80,\\ldots $ y a aplicar la fórmula de Simpson compuesta hasta que la diferencia entre dos aproximaciones consecutivas (por ejemplo, podrían\n",
    "ser con $20$ y $40$ subintervalos) sea menor que $10^{-2}$, dando en tal caso por buena la última aproximación obtenida. Programe\n",
    "y calcule dicha aproximación. Compare ambas aproximaciones con\n",
    "el valor exacto."
   ]
  },
  {
   "cell_type": "code",
   "execution_count": 48,
   "id": "90b66b23",
   "metadata": {},
   "outputs": [],
   "source": [
    "def f3(z):\n",
    "    return (z**15)*(sp.exp(z))"
   ]
  },
  {
   "cell_type": "code",
   "execution_count": 49,
   "id": "a4cd479c",
   "metadata": {},
   "outputs": [
    {
     "data": {
      "text/latex": [
       "$\\displaystyle 27062.7024138996$"
      ],
      "text/plain": [
       "27062.7024138996"
      ]
     },
     "execution_count": 49,
     "metadata": {},
     "output_type": "execute_result"
    }
   ],
   "source": [
    "val_exacto = sp.integrate(f3(z),(z,0,2))\n",
    "val_exacto = val_exacto.evalf()\n",
    "val_exacto"
   ]
  },
  {
   "cell_type": "code",
   "execution_count": 50,
   "id": "f68467e9",
   "metadata": {},
   "outputs": [
    {
     "name": "stdout",
     "output_type": "stream",
     "text": [
      "La última aproximación obtenida ha sido: 27062.7024808912\n",
      "Número de subintervalos utilizados: 640\n"
     ]
    }
   ],
   "source": [
    "aproximacion0 = formsimpson(f3,0,2,10).evalf()\n",
    "aproximacion1 = formsimpson(f3,0,2,20).evalf()\n",
    "\n",
    "if abs(aproximacion0 - aproximacion1) < 10**(-2):\n",
    "    print(\"La última aproximación obtenida ha sido: {}\".format(aproximacion1))\n",
    "else:\n",
    "    n = 2\n",
    "    while abs(aproximacion0 - aproximacion1) >= 10**(-2) :\n",
    "        aproximacion0 = aproximacion1\n",
    "        aproximacion1 = formsimpson(f3,0,2,10*(2**n)).evalf()\n",
    "        n+=1\n",
    "    \n",
    "    print(\"La última aproximación obtenida ha sido: {}\".format(aproximacion1))\n",
    "    print(\"Número de subintervalos utilizados: {}\".format(10*(2**(n-1))))"
   ]
  },
  {
   "cell_type": "code",
   "execution_count": 51,
   "id": "158df052",
   "metadata": {},
   "outputs": [
    {
     "name": "stdout",
     "output_type": "stream",
     "text": [
      "El error asociado a la penúltima aproximación es: 0.00107168317117612\n",
      "El error asociado a la última aproximación es: 0.0000669916116748936\n"
     ]
    }
   ],
   "source": [
    "print(\"El error asociado a la penúltima aproximación es: {}\".format(abs(val_exacto-aproximacion0)))\n",
    "print(\"El error asociado a la última aproximación es: {}\".format(abs(val_exacto-aproximacion1)))"
   ]
  },
  {
   "cell_type": "markdown",
   "id": "603bd60f",
   "metadata": {},
   "source": [
    "7.- Calcule las fórmulas gaussianas con $2$ y $3$ nodos,en el intervalo $[-1,1]$, siendo la función peso el valor absoluto de la variable. Aplíquelas para aproximar la función $x\\; e^x$ en $[-1,1]$ y compare los resultados con el valor exacto (organizando los cálculos de forma adecuada)."
   ]
  },
  {
   "cell_type": "code",
   "execution_count": 59,
   "id": "a09aefe3",
   "metadata": {},
   "outputs": [],
   "source": [
    "x = sp.Symbol('x')\n",
    "def w(x):\n",
    "    \"\"\"función peso\"\"\"\n",
    "    return abs(x)"
   ]
  },
  {
   "cell_type": "code",
   "execution_count": 60,
   "id": "a1a4672c",
   "metadata": {},
   "outputs": [],
   "source": [
    "# Definimos una función que nos calcule los nodos de Gauss\n",
    "\n",
    "def nodosgauss(w,a,b,n):\n",
    "    \n",
    "    x = sp.Symbol('x')\n",
    "    grexact = 2*n-1\n",
    "    \n",
    "    # Generamos una tupla de n nodos\n",
    "    \n",
    "    p = sp.symbols('p0:'+ str(n))\n",
    "    nodos = list(p)\n",
    "    \n",
    "    # Generamos una tupla de n coeficientes\n",
    "    \n",
    "    c = sp.symbols('c0:'+ str(n))\n",
    "    coefs = list(c)\n",
    "    \n",
    "    # nodos = [p(i) for i in range(n)]\n",
    "    # coefs = [c(i) for i in range(n)]\n",
    "    \n",
    "    incognitas = nodos + coefs\n",
    "    \n",
    "    ecs = [np.dot([(z**i).subs({z:nodos[j]}) for j in range(n)],coefs)-sp.integrate(w(x)*x**i,(x,a,b)) for i in range(grexact+1)]\n",
    "    \n",
    "    solsGauss = sp.solve(ecs,incognitas)\n",
    "    \n",
    "    for i in range(n):\n",
    "        nodos[i] = solsGauss[0][i]\n",
    "        coefs[i] = solsGauss[0][n+i]\n",
    "    \n",
    "    return nodos,coefs"
   ]
  },
  {
   "cell_type": "code",
   "execution_count": 61,
   "id": "0bb138d7",
   "metadata": {},
   "outputs": [],
   "source": [
    "def formgaussiana(f,nodos,coefs,n):\n",
    "    \n",
    "    resultado = 0\n",
    "    \n",
    "    for i in range(n):\n",
    "        resultado += coefs[i]*f(nodos[i])\n",
    "    \n",
    "    return resultado"
   ]
  },
  {
   "cell_type": "code",
   "execution_count": 62,
   "id": "375ccaa4",
   "metadata": {},
   "outputs": [],
   "source": [
    "# Ya que tenemos la funciones listas, vamos a definir f y hallar primero el valor exacto de su integral\n",
    "\n",
    "def f4(x):\n",
    "    return x*sp.exp(x)"
   ]
  },
  {
   "cell_type": "code",
   "execution_count": 63,
   "id": "25b17b8d",
   "metadata": {},
   "outputs": [
    {
     "data": {
      "text/latex": [
       "$\\displaystyle 0.557679034316257$"
      ],
      "text/plain": [
       "0.557679034316257"
      ]
     },
     "execution_count": 63,
     "metadata": {},
     "output_type": "execute_result"
    }
   ],
   "source": [
    "val_exacto = sp.integrate(w(x)*f4(x),(x,-1,1))\n",
    "val_exacto = val_exacto.evalf()\n",
    "val_exacto"
   ]
  },
  {
   "cell_type": "code",
   "execution_count": 64,
   "id": "c68a279d",
   "metadata": {},
   "outputs": [],
   "source": [
    "nodos, coefs = nodosgauss(w,-1,1,2)\n",
    "aproximacion2 = formgaussiana(f4,nodos,coefs,2)\n",
    "\n",
    "nodos, coefs = nodosgauss(w,-1,1,3)\n",
    "aproximacion3 = formgaussiana(f4,nodos,coefs,3)"
   ]
  },
  {
   "cell_type": "code",
   "execution_count": 66,
   "id": "ca53f45b",
   "metadata": {},
   "outputs": [
    {
     "name": "stdout",
     "output_type": "stream",
     "text": [
      "Valor exacto: 0.557679034316257\n",
      "\n",
      "n\tAproximación\t\tError\n",
      "-\t------------\t\t-----\n",
      "2\t0.542720820636303\t0.0149582136799534\n",
      "3\t0.557437075708894\t0.000241958607363272\n"
     ]
    }
   ],
   "source": [
    "# Finalmente comparamos las dos aproximaciones con el valor exacto de la integral y calculamos sus respectivos errores\n",
    "\n",
    "print(\"Valor exacto: {}\\n\".format(val_exacto))\n",
    "\n",
    "print(\"n\\tAproximación\\t\\tError\")\n",
    "print(\"-\\t------------\\t\\t-----\")\n",
    "print(\"{}\\t{}\\t{}\".format(2, aproximacion2.evalf(), abs(aproximacion2 - val_exacto).evalf()))\n",
    "print(\"{}\\t{}\\t{}\".format(3, aproximacion3.evalf(), abs(aproximacion3 - val_exacto).evalf()))"
   ]
  },
  {
   "cell_type": "markdown",
   "id": "a27f52cb",
   "metadata": {},
   "source": [
    "8.- Programar las técnicas de integración de Romberg y adaptativa, para después aplicarlas a la aproximación de la siguiente integral $$\\int_a^b p(x)\\, dx$$\n",
    "siendo  $\\;a=\\displaystyle\\min_{0\\leq i\\leq 7}{d_i}$, $\\;b=\\displaystyle\\max_{0\\leq i\\leq 7}{d_i}$ y \n",
    "$$p(x)=d_0 + d_1 x + d_2 x^2 + d_3 x^3+ d_4 x^4 + d_5 x^5 + d_6 x^6 + d_7 x^7 $$\n",
    "(siendo $d_0, d_1, \\ldots, d_7$ los dígitos de su DNI, pasaporte o tarjeta de residente)."
   ]
  },
  {
   "cell_type": "markdown",
   "id": "15739d92",
   "metadata": {},
   "source": [
    "Como mi DNI es 76067985,  $\\;a=\\displaystyle\\min_{0\\leq i\\leq 7}{d_i} = 0$, $\\;b=\\displaystyle\\max_{0\\leq i\\leq 7}{d_i} = 9$"
   ]
  },
  {
   "cell_type": "markdown",
   "id": "813cad58",
   "metadata": {},
   "source": [
    "Tenemos que calcular $$\\int_0^9 7 + 6x + 6x^3 + 7x^4 + 9x^5 + 8x^6 + 5x^7\\, dx$$, así como aproximarla por las técnicas de integradión de Romberg y adaptativa."
   ]
  },
  {
   "cell_type": "code",
   "execution_count": 67,
   "id": "eec80ba5",
   "metadata": {},
   "outputs": [],
   "source": [
    "def p(x):\n",
    "    return 7 + 6*x + 6*x**3 + 7*x**4 + 9*x**5 + 8*x**6 + 5*x**7"
   ]
  },
  {
   "cell_type": "code",
   "execution_count": 68,
   "id": "b2e4faee",
   "metadata": {},
   "outputs": [
    {
     "data": {
      "text/latex": [
       "$\\displaystyle 33260428.5107143$"
      ],
      "text/plain": [
       "33260428.5107143"
      ]
     },
     "execution_count": 68,
     "metadata": {},
     "output_type": "execute_result"
    }
   ],
   "source": [
    "val_exacto = sp.integrate(p(x),(x,0,9))\n",
    "val_exacto = val_exacto.evalf()\n",
    "val_exacto"
   ]
  },
  {
   "cell_type": "markdown",
   "id": "ca64a11c",
   "metadata": {},
   "source": [
    "Comenzaremos programando el algoritmo de integración de Romberg:\n",
    "\n",
    "###### Algoritmo de integración de Romberg\n",
    "\n",
    "La integración de Romberg consiste en hallar una sucesión, $\\{R(N,N)\\}_{N=0}^{\\infty}$.\n",
    "\n",
    "$$\n",
    "\\begin{matrix}\n",
    "R(0,0) \\\\\n",
    "R(1,0) & R(1,1) \\\\\n",
    "R(2,0) & R(2,1) & R(2,2) \\\\\n",
    "\\vdots & \\vdots & \\vdots & \\ddots \\\\\n",
    "R(N,0) & R(N,1) & R(N,2) & \\cdots & R(N,N)\n",
    "\\end{matrix}\n",
    "$$"
   ]
  },
  {
   "cell_type": "markdown",
   "id": "393a58a1",
   "metadata": {},
   "source": [
    "Como vimos en teoría, el cálculo para los $R(i,j)$ es:\n",
    "\n",
    "$$\n",
    "R(j,0) = T_{2j}, \\quad R(j,k) = \\frac{4^k R(j,k-1)- R(j-1,k-1)}{4^k-1} \\qquad \\text{con} \\quad j= 0,1,...,N; k = 1,...,j\n",
    "$$\n",
    "\n",
    "con $T_n$ la función `formtrapecios` del ejercicio 4."
   ]
  },
  {
   "cell_type": "code",
   "execution_count": 69,
   "id": "e746d812",
   "metadata": {},
   "outputs": [],
   "source": [
    "def romberg(f,a,b,tol=10**(-5)): # Nuestro criterio de parada es que dos aproximaciones consecutivas se diferencien menos\n",
    "                                 # de 10**(-5)\n",
    "    n = 0\n",
    "    r0 = [formtrapecios(f,a,b,2**n)]\n",
    "    condicion = True\n",
    "\n",
    "    while condicion:\n",
    "        n += 1\n",
    "        \n",
    "        # Se calcula R(n,0)\n",
    "        r1 = [formtrapecios(f,a,b,2**n)]\n",
    "        \n",
    "        # Se calculan todos los R(n,i) con 1 <= i <= n (es decir, la fila r1)\n",
    "        for i in range(1,n):\n",
    "            r1.append((4**i*r1[i-1]-r0[i-1])/(4**i-1))\n",
    "        \n",
    "        # Se comparan los últimos elementos de las filas, que son justo los R de la diagonal\n",
    "        condicion = (abs(r1[n-1] - r0[n-2]) >= tol)\n",
    "        \n",
    "        # La fila r1 se copia en r0 para empezar a generar la fila r1 en la siguiente iteración\n",
    "        r0 = r1\n",
    "\n",
    "    return r1[n-1]"
   ]
  },
  {
   "cell_type": "code",
   "execution_count": 70,
   "id": "4d6ced85",
   "metadata": {},
   "outputs": [
    {
     "data": {
      "text/plain": [
       "33260428.51071429"
      ]
     },
     "execution_count": 70,
     "metadata": {},
     "output_type": "execute_result"
    }
   ],
   "source": [
    "aproximacion = romberg(p,0,9)\n",
    "aproximacion"
   ]
  },
  {
   "cell_type": "code",
   "execution_count": 71,
   "id": "26253a29",
   "metadata": {},
   "outputs": [
    {
     "data": {
      "text/latex": [
       "$\\displaystyle 3.72529029846191 \\cdot 10^{-9}$"
      ],
      "text/plain": [
       "3.72529029846191e-9"
      ]
     },
     "execution_count": 71,
     "metadata": {},
     "output_type": "execute_result"
    }
   ],
   "source": [
    "# Finalmente calculamos el error asociado a esta aproximación\n",
    "\n",
    "error_romberg = abs(val_exacto - aproximacion)\n",
    "error_romberg"
   ]
  },
  {
   "cell_type": "markdown",
   "id": "eb0ac043",
   "metadata": {},
   "source": [
    "##### Algoritmo de integración adaptativa\n",
    "\n",
    "Se define la fórmula de Simpson adaptativa: $\\int_{a}^{b} f(x)dx \\approx S(a,b)$ siendo $S(a,b) = \\frac{b-a}{6} (f(a) + 4f(m) + f(b))$.\n",
    "\n",
    "El algoritmo se basa en hallar $S(a,b)$, $S(a,m)$ y $S(m,b)$ siendo $m = \\frac{a+b}{2}$ hasta que $|S(a,b) - S(a,m) - S(m,b)| < 10\\epsilon$. De esta forma, se puede afirmar que $\\int_{a}^{b} f(x)dx \\approx S(a,m) + S(m,b)$ con un error $< \\epsilon$. Si esto no ocurre, se aplica el algoritmo en $[a,m]$ y $[m,b]$ con error $\\frac{\\epsilon}{2}$ en cada uno de los dos subintervalos."
   ]
  },
  {
   "cell_type": "code",
   "execution_count": 72,
   "id": "ca4eb82b",
   "metadata": {},
   "outputs": [],
   "source": [
    "def formsimpsonadaptativa(f,a,b):\n",
    "    return ((b-a)/6)*(f(a)+4*f((a+b)/2)+f(b))"
   ]
  },
  {
   "cell_type": "code",
   "execution_count": 73,
   "id": "1e742845",
   "metadata": {},
   "outputs": [],
   "source": [
    "def integracionadaptativa(f,a,b, error = 10**(-4)):\n",
    "    \n",
    "    m = (a+b)/2\n",
    "    resultado = 0\n",
    "    if(abs(formsimpsonadaptativa(f,a,b)-formsimpsonadaptativa(f,a,m)-formsimpsonadaptativa(f,m,b))<10*error):\n",
    "        resultado = formsimpsonadaptativa(f,a,m) + formsimpsonadaptativa(f,m,b)\n",
    "    else:\n",
    "        resultado = integracionadaptativa(f,a,m,error/2) + integracionadaptativa(f,m,b,error/2)\n",
    "    \n",
    "    return resultado"
   ]
  },
  {
   "cell_type": "code",
   "execution_count": 74,
   "id": "4e994e88",
   "metadata": {},
   "outputs": [
    {
     "data": {
      "text/plain": [
       "33260428.510740392"
      ]
     },
     "execution_count": 74,
     "metadata": {},
     "output_type": "execute_result"
    }
   ],
   "source": [
    "aproximacion = integracionadaptativa(p,0,9)\n",
    "aproximacion"
   ]
  },
  {
   "cell_type": "code",
   "execution_count": 75,
   "id": "80bb0145",
   "metadata": {},
   "outputs": [
    {
     "data": {
      "text/latex": [
       "$\\displaystyle 2.61068344116211 \\cdot 10^{-5}$"
      ],
      "text/plain": [
       "2.61068344116211e-5"
      ]
     },
     "execution_count": 75,
     "metadata": {},
     "output_type": "execute_result"
    }
   ],
   "source": [
    "# Finalmente calculamos el error asociado a la aproximación obtenida por integración adaptativa\n",
    "\n",
    "error_adaptativa = abs(val_exacto - aproximacion)\n",
    "error_adaptativa"
   ]
  },
  {
   "cell_type": "code",
   "execution_count": 76,
   "id": "fad9240d",
   "metadata": {},
   "outputs": [
    {
     "data": {
      "text/latex": [
       "$\\displaystyle \\text{True}$"
      ],
      "text/plain": [
       "True"
      ]
     },
     "execution_count": 76,
     "metadata": {},
     "output_type": "execute_result"
    }
   ],
   "source": [
    "error_romberg < error_adaptativa"
   ]
  },
  {
   "cell_type": "markdown",
   "id": "8a35e830",
   "metadata": {},
   "source": [
    "Concluimos que el error de aproximación de integración de Romberg es menor que el de integración adaptativa."
   ]
  }
 ],
 "metadata": {
  "kernelspec": {
   "display_name": "Python 3 (ipykernel)",
   "language": "python",
   "name": "python3"
  },
  "language_info": {
   "codemirror_mode": {
    "name": "ipython",
    "version": 3
   },
   "file_extension": ".py",
   "mimetype": "text/x-python",
   "name": "python",
   "nbconvert_exporter": "python",
   "pygments_lexer": "ipython3",
   "version": "3.9.13"
  }
 },
 "nbformat": 4,
 "nbformat_minor": 5
}
