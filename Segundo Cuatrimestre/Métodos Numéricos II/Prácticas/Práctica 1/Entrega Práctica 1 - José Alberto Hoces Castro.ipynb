{
 "cells": [
  {
   "cell_type": "markdown",
   "metadata": {},
   "source": [
    "# Práctica 1: Resolución numérica de ecuaciones no lineales"
   ]
  },
  {
   "cell_type": "markdown",
   "metadata": {},
   "source": [
    "Autor: José Alberto Hoces Castro\n",
    "\n",
    "3º Doble Grado en Ingeniería Informática y Matemáticas\n",
    "\n",
    "*Aclaración: Hay métodos en los que cuando hablo de cifras significativas me refiero en realidad al número de cifras decimales (es decir, si digo 5 cifras significativas en realidad me estoy refiriendo a 5 cifras decimales). Ha sido sin querer pero me es más cómodo aclararlo aquí que corregirlo en todos los códigos"
   ]
  },
  {
   "cell_type": "markdown",
   "metadata": {},
   "source": [
    "## Ejercicios"
   ]
  },
  {
   "cell_type": "code",
   "execution_count": 1,
   "metadata": {},
   "outputs": [],
   "source": [
    "# Importamos los módulos que usaremos en la práctica\n",
    "\n",
    "import numpy as np\n",
    "import sympy as sp\n",
    "from numpy import sign\n",
    "from decimal import *\n",
    "from sympy import *\n",
    "\n",
    "# Definimos la función truncar que nos será útil\n",
    "\n",
    "def truncate(num, n):\n",
    "    integer = int(num * (10**n))/(10**n)\n",
    "    return float(integer)\n",
    "\n",
    "x = sp.Symbol('x')"
   ]
  },
  {
   "cell_type": "markdown",
   "metadata": {},
   "source": [
    "1.- Demuestre que la ecuación  $x^3+4 x^2=10  $  tiene una única raíz en el intervalo $[1,2]$.  Aproxime dicha raíz con el método de bisección con al menos 3 cifras decimales exactas. ¿Cuántas iteraciones serán necesarias para conseguir 5 cifras decimales exactas (tol =$10^{-5}$)?  Aproxime también la raíz con el método de Newton-Raphson partiendo del extremo adecuado hasta que la diferencia en valor absoluto, entre dos aproximaciones consecutivas sea  inferior a  $10^{-3}$."
   ]
  },
  {
   "cell_type": "code",
   "execution_count": 2,
   "metadata": {},
   "outputs": [
    {
     "data": {
      "text/plain": [
       "(-5.0, 14.0)"
      ]
     },
     "execution_count": 2,
     "metadata": {},
     "output_type": "execute_result"
    }
   ],
   "source": [
    "# Definimos los extremos del intervalo\n",
    "\n",
    "a = 1.0\n",
    "b = 2.0\n",
    "\n",
    "# Definimos la función f cuyos ceros vamos a encontrar en [1,2]\n",
    "\n",
    "def f(x):\n",
    "    return x**3+4*(x**2)-10\n",
    "\n",
    "# Evaluamos f en los extremos y comprobamos que tienen signo distinto.\n",
    "# Por el Teorema de Bolzano, sabemos que existe al menos una solución\n",
    "# en  intervalo [1,2]\n",
    "\n",
    "f(a),f(b)"
   ]
  },
  {
   "cell_type": "code",
   "execution_count": 3,
   "metadata": {},
   "outputs": [
    {
     "data": {
      "text/latex": [
       "$\\displaystyle 3 x^{2} + 8 x$"
      ],
      "text/plain": [
       "3*x**2 + 8*x"
      ]
     },
     "execution_count": 3,
     "metadata": {},
     "output_type": "execute_result"
    }
   ],
   "source": [
    "sp.diff(f(x),x)"
   ]
  },
  {
   "cell_type": "code",
   "execution_count": 4,
   "metadata": {},
   "outputs": [
    {
     "data": {
      "image/png": "[encoded data removed]",
      "text/plain": [
       "<Figure size 640x480 with 1 Axes>"
      ]
     },
     "metadata": {},
     "output_type": "display_data"
    },
    {
     "data": {
      "text/plain": [
       "<sympy.plotting.plot.Plot at 0x1ea44a3feb0>"
      ]
     },
     "execution_count": 4,
     "metadata": {},
     "output_type": "execute_result"
    }
   ],
   "source": [
    "# A continuación estudiamos el signo de la derivada en dicho intervalo.\n",
    "# Para ello, la definimos y mostramos su gráfica en el [1,2]\n",
    "\n",
    "def df(x):\n",
    "    return 3*(x**2)+8*x\n",
    "\n",
    "sp.plot(df(x),(x,a,b))\n",
    "\n",
    "# Como la derivada es positiva en el [1,2], es estrictamente creciente.\n",
    "# Por lo tanto, como se cumple el Tma.Bolzano y la derivada es positiva,\n",
    "# solo existe una solución de la ecuación en dicho intervalo"
   ]
  },
  {
   "cell_type": "code",
   "execution_count": 5,
   "metadata": {},
   "outputs": [],
   "source": [
    "# Definimos la función bisección, que tendrá como parámetros el\n",
    "# número máximo de iteraciones (nmax), la función f cuyos ceros\n",
    "# queremos encontrar en el intervalo [a,b], la precisión y la\n",
    "# tolerancia\n",
    "\n",
    "def biseccion(f, a, b, cifras, nmax=100, prec=10**(-16), tol=10**(-5)):\n",
    "    niter = 0; sale =''\n",
    "    for k in range(nmax):\n",
    "        niter = niter + 1;\n",
    "        c = a + (b-a)/2 # equivalente a c = (a+b)/2\n",
    "        if abs(f(c)) < prec:\n",
    "            sale = 'precision'\n",
    "            break\n",
    "        if sign(f(a)) != sign(f(c)):\n",
    "            b = c\n",
    "        else:\n",
    "            a = c\n",
    "        if b-a < tol:\n",
    "            sale = 'tolerancia'\n",
    "            break\n",
    "\n",
    "    if sale == 'precision':\n",
    "        print('Posiblemente solución exacta: ',c)\n",
    "    elif niter < nmax:\n",
    "        print('Aproximación solicitada: ',c)\n",
    "    else:\n",
    "        print('Se llegó al número máximo de iteraciones')\n",
    "\n",
    "    print('Solución exacta con ', cifras, ' cifras decimales', truncate(c,cifras))\n",
    "    print('Número total de iteraciones ', niter)\n",
    "    \n",
    "    return c"
   ]
  },
  {
   "cell_type": "code",
   "execution_count": 6,
   "metadata": {},
   "outputs": [
    {
     "name": "stdout",
     "output_type": "stream",
     "text": [
      "Aproximación solicitada:  1.3642578125\n",
      "Solución exacta con  3  cifras decimales 1.364\n",
      "Número total de iteraciones  10\n"
     ]
    },
    {
     "data": {
      "text/plain": [
       "1.3642578125"
      ]
     },
     "execution_count": 6,
     "metadata": {},
     "output_type": "execute_result"
    }
   ],
   "source": [
    "# Fijamos el número máximo de iteraciones a 100, las cifras a 3,\n",
    "# la tolerancia a 10 elevado a -3 ya que buscamos tener 3 cifras\n",
    "# decimales exactas\n",
    "\n",
    "biseccion(f,1,2,3,tol=10**(-3))"
   ]
  },
  {
   "cell_type": "code",
   "execution_count": 7,
   "metadata": {},
   "outputs": [
    {
     "name": "stdout",
     "output_type": "stream",
     "text": [
      "Aproximación solicitada:  1.3652267456054688\n",
      "Solución exacta con  5  cifras decimales 1.36522\n",
      "Número total de iteraciones  17\n"
     ]
    },
    {
     "data": {
      "text/plain": [
       "1.3652267456054688"
      ]
     },
     "execution_count": 7,
     "metadata": {},
     "output_type": "execute_result"
    }
   ],
   "source": [
    "# Para saber cuántas iteraciones serán necesarias para obtener 5\n",
    "# cifras decimales exactas volvemos a aplicar la función bisección\n",
    "\n",
    "biseccion(f,1,2,5,tol=10**(-5))"
   ]
  },
  {
   "cell_type": "code",
   "execution_count": 8,
   "metadata": {},
   "outputs": [],
   "source": [
    "# Procedemos a definir la función Newton-Raphson que usaremos para\n",
    "# aproximar la raíz de la función f en el intervalo [1,2] con una\n",
    "# diferencia en valor absoluto entre dos valores consecutivos menor\n",
    "# que 10^(-3)\n",
    "\n",
    "def NewtonRaphson(f,df,x0,a,b,cifras,nmax=100,tol=10**(-5),prec=10**(-16)):\n",
    "    \n",
    "    # Si la semilla no está en el intervalo, se asigna por defecto el extremo\n",
    "    # derecho del mismo\n",
    "    \n",
    "    if x0 < a or x0 > b:\n",
    "        x0 = b\n",
    "    \n",
    "    niter = 0; sale =''\n",
    "    \n",
    "    for k in range(nmax):\n",
    "        \n",
    "        niter = niter + 1;\n",
    "        x1 = x0 - f(x0)/df(x0)  \n",
    "        \n",
    "        if abs(x1-x0) < tol:\n",
    "            sale = 'tolerancia'\n",
    "            break\n",
    "        if abs(f(x1)) < prec:\n",
    "            sale = 'precision'\n",
    "            break\n",
    "        else:\n",
    "            x0 = x1\n",
    "\n",
    "    print('Sale el programa por ',sale)\n",
    "    if sale == 'precision':\n",
    "        print('Posiblemente solución exacta: ',x1)\n",
    "    elif niter < nmax:\n",
    "        print('Aproximación solicitada: ', x1)\n",
    "    else:\n",
    "        print('Se llegó al número máximo de iteraciones')\n",
    "        \n",
    "    print('Aproximación de la solución con ', cifras, ' cifras significativas', truncate(x1,cifras))\n",
    "    print('Número total de iteraciones ', niter)\n",
    "    \n",
    "    return x1"
   ]
  },
  {
   "cell_type": "code",
   "execution_count": 9,
   "metadata": {},
   "outputs": [
    {
     "name": "stdout",
     "output_type": "stream",
     "text": [
      "Sale el programa por  precision\n",
      "Posiblemente solución exacta:  1.3652300134140969\n",
      "Aproximación de la solución con  3  cifras significativas 1.365\n",
      "Número total de iteraciones  5\n"
     ]
    },
    {
     "data": {
      "text/plain": [
       "1.3652300134140969"
      ]
     },
     "execution_count": 9,
     "metadata": {},
     "output_type": "execute_result"
    }
   ],
   "source": [
    "# Y aplicamos a los datos concretos del enunciado la función que acabamos\n",
    "# de definir. Pondremos 3 cifras decimales\n",
    "\n",
    "NewtonRaphson(f,df,1.15,1,2,3,tol=10^(-3))"
   ]
  },
  {
   "cell_type": "markdown",
   "metadata": {},
   "source": [
    "2.- Encuentre una aproximación de la raíz cúbica de 25 con dos decimales exactos (tol =$10^{-2}$), usando el algoritmo de bisección."
   ]
  },
  {
   "cell_type": "code",
   "execution_count": 10,
   "metadata": {},
   "outputs": [],
   "source": [
    "# Sabemos que la raíz cúbica de 25 es solución de la ecuación x^3 = 25,\n",
    "# por lo que definiremos una función g(x)=x^3-25 y hallaremos su raíz\n",
    "# con el método de bisección ya programado en el anterior ejercicio\n",
    "\n",
    "def g(x):\n",
    "    return x**3-25"
   ]
  },
  {
   "cell_type": "code",
   "execution_count": 11,
   "metadata": {},
   "outputs": [
    {
     "data": {
      "text/plain": [
       "(-17.0, 2.0)"
      ]
     },
     "execution_count": 11,
     "metadata": {},
     "output_type": "execute_result"
    }
   ],
   "source": [
    "# El Teorema de Bolzano se cumple en el intervalo [2,3].\n",
    "# Como la derivada d g es positiva en dicho intervalo,\n",
    "# afirmamos la existencia de una única raíz\n",
    "\n",
    "a = 2.0\n",
    "b = 3.0\n",
    "\n",
    "g(a),g(b)"
   ]
  },
  {
   "cell_type": "code",
   "execution_count": 12,
   "metadata": {},
   "outputs": [
    {
     "name": "stdout",
     "output_type": "stream",
     "text": [
      "Aproximación solicitada:  2.9296875\n",
      "Solución exacta con  2  cifras decimales 2.92\n",
      "Número total de iteraciones  7\n"
     ]
    },
    {
     "data": {
      "text/plain": [
       "2.9296875"
      ]
     },
     "execution_count": 12,
     "metadata": {},
     "output_type": "execute_result"
    }
   ],
   "source": [
    "# Finalmente usamos la función definida en el ejercicio 1\n",
    "# fijando la tolerancia a 10^(-2)\n",
    "\n",
    "biseccion(g,2,3,2,tol=10**(-2))"
   ]
  },
  {
   "cell_type": "markdown",
   "metadata": {},
   "source": [
    "3.- Use el método de Newton-Raphson para aproximar las soluciones de las siguientes ecuaciones con tolerancia $10^{-5}$ , partiendo de un valor adecuado, próximo a cada una de ellas en cada caso.\n",
    "\n",
    "i) $x^3-x-1 = 0$  en $[1,2]$.\n",
    "\n",
    "ii) $3x=2+x^2-e^x$.\n",
    "\n",
    "iii) $x^2+10\\, cos x+x=0$."
   ]
  },
  {
   "cell_type": "code",
   "execution_count": 13,
   "metadata": {},
   "outputs": [],
   "source": [
    "# APARTADO I\n",
    "\n",
    "def f(x):\n",
    "    return x**3-x-1"
   ]
  },
  {
   "cell_type": "code",
   "execution_count": 14,
   "metadata": {},
   "outputs": [
    {
     "data": {
      "text/latex": [
       "$\\displaystyle 3 x^{2} - 1$"
      ],
      "text/plain": [
       "3*x**2 - 1"
      ]
     },
     "execution_count": 14,
     "metadata": {},
     "output_type": "execute_result"
    }
   ],
   "source": [
    "sp.diff(f(x),x)"
   ]
  },
  {
   "cell_type": "code",
   "execution_count": 15,
   "metadata": {},
   "outputs": [],
   "source": [
    "def df(x):\n",
    "    return 3*(x**2)-1"
   ]
  },
  {
   "cell_type": "code",
   "execution_count": 16,
   "metadata": {
    "scrolled": true
   },
   "outputs": [
    {
     "name": "stdout",
     "output_type": "stream",
     "text": [
      "Sale el programa por  tolerancia\n",
      "Aproximación solicitada:  1.3247179572447465\n",
      "Aproximación de la solución con  5  cifras significativas 1.32471\n",
      "Número total de iteraciones  5\n"
     ]
    },
    {
     "data": {
      "text/plain": [
       "1.3247179572447465"
      ]
     },
     "execution_count": 16,
     "metadata": {},
     "output_type": "execute_result"
    }
   ],
   "source": [
    "NewtonRaphson(f,df,1.8,1,2,5,tol=10**(-5))"
   ]
  },
  {
   "cell_type": "code",
   "execution_count": 17,
   "metadata": {},
   "outputs": [],
   "source": [
    "# APARTADO II\n",
    "\n",
    "def g(x):\n",
    "    return x**2-3*x-sp.exp(x)+2"
   ]
  },
  {
   "cell_type": "code",
   "execution_count": 18,
   "metadata": {},
   "outputs": [
    {
     "data": {
      "text/latex": [
       "$\\displaystyle 2 x - e^{x} - 3$"
      ],
      "text/plain": [
       "2*x - exp(x) - 3"
      ]
     },
     "execution_count": 18,
     "metadata": {},
     "output_type": "execute_result"
    }
   ],
   "source": [
    "sp.diff(g(x),x)"
   ]
  },
  {
   "cell_type": "code",
   "execution_count": 19,
   "metadata": {},
   "outputs": [
    {
     "data": {
      "text/plain": [
       "(1, -E)"
      ]
     },
     "execution_count": 19,
     "metadata": {},
     "output_type": "execute_result"
    }
   ],
   "source": [
    "# En el intervalo [0,1] hay una solución\n",
    "\n",
    "a = 0\n",
    "b = 1\n",
    "\n",
    "g(a),g(b)"
   ]
  },
  {
   "cell_type": "code",
   "execution_count": 20,
   "metadata": {},
   "outputs": [],
   "source": [
    "def dg(x):\n",
    "    return 2*x-sp.exp(x)-3"
   ]
  },
  {
   "cell_type": "code",
   "execution_count": 21,
   "metadata": {},
   "outputs": [
    {
     "name": "stdout",
     "output_type": "stream",
     "text": [
      "Sale el programa por  tolerancia\n",
      "Aproximación solicitada:  0.257530285439682\n",
      "Aproximación de la solución con  5  cifras significativas 0.25753\n",
      "Número total de iteraciones  3\n"
     ]
    },
    {
     "data": {
      "text/latex": [
       "$\\displaystyle 0.257530285439682$"
      ],
      "text/plain": [
       "0.257530285439682"
      ]
     },
     "execution_count": 21,
     "metadata": {},
     "output_type": "execute_result"
    }
   ],
   "source": [
    "# Usamos de semilla 0.5\n",
    "\n",
    "NewtonRaphson(g,dg,0.5,0,1,5,tol=10**(-5))"
   ]
  },
  {
   "cell_type": "code",
   "execution_count": 22,
   "metadata": {},
   "outputs": [],
   "source": [
    "# APARTADO III\n",
    "\n",
    "def h(x):\n",
    "    return x**2+10*sp.cos(x)+x"
   ]
  },
  {
   "cell_type": "code",
   "execution_count": 23,
   "metadata": {},
   "outputs": [
    {
     "data": {
      "text/plain": [
       "(10*cos(2) + 2, 10*cos(1))"
      ]
     },
     "execution_count": 23,
     "metadata": {},
     "output_type": "execute_result"
    }
   ],
   "source": [
    "# Tiene una solución en el intervalo [-2,-1] (Bolzano)\n",
    "\n",
    "a = -2\n",
    "b = -1\n",
    "\n",
    "h(a),h(b)"
   ]
  },
  {
   "cell_type": "code",
   "execution_count": 24,
   "metadata": {},
   "outputs": [
    {
     "data": {
      "text/latex": [
       "$\\displaystyle 2 x - 10 \\sin{\\left(x \\right)} + 1$"
      ],
      "text/plain": [
       "2*x - 10*sin(x) + 1"
      ]
     },
     "execution_count": 24,
     "metadata": {},
     "output_type": "execute_result"
    }
   ],
   "source": [
    "sp.diff(h(x),x)"
   ]
  },
  {
   "cell_type": "code",
   "execution_count": 25,
   "metadata": {},
   "outputs": [],
   "source": [
    "def dh(x):\n",
    "    return 2*x-10*sp.sin(x)+1"
   ]
  },
  {
   "cell_type": "code",
   "execution_count": 26,
   "metadata": {},
   "outputs": [
    {
     "name": "stdout",
     "output_type": "stream",
     "text": [
      "Sale el programa por  tolerancia\n",
      "Aproximación solicitada:  -1.68693989979790\n",
      "Aproximación de la solución con  5  cifras significativas -1.68693\n",
      "Número total de iteraciones  3\n"
     ]
    },
    {
     "data": {
      "text/latex": [
       "$\\displaystyle -1.6869398997979$"
      ],
      "text/plain": [
       "-1.68693989979790"
      ]
     },
     "execution_count": 26,
     "metadata": {},
     "output_type": "execute_result"
    }
   ],
   "source": [
    "# Usamos Newton-Raphson con semilla -1.8\n",
    "\n",
    "NewtonRaphson(h,dh,-1.8,-2,-1,5,tol=10**(-5))"
   ]
  },
  {
   "cell_type": "markdown",
   "metadata": {},
   "source": [
    "4.- Para la función  $ f(x)= 3 x^2+e^x-1$, \n",
    "\n",
    "i) encuentre, mediante el método de bisección una aproximación de la raíz en $[0,1]$ con, al menos, cuatro decimales exactos (tol =$10^{-4}$), y determine el número de iteraciones realizadas;\n",
    "\n",
    "ii) encuentre, mediante el método de Newton-Raphson, una aproximación de la raíz en $[0,1]$ con una tolerancia de $10^{-4}$, partiendo de $x_0=0$, y determine el número de iteraciones realizadas. "
   ]
  },
  {
   "cell_type": "code",
   "execution_count": 27,
   "metadata": {},
   "outputs": [],
   "source": [
    "# APARTADO I\n",
    "\n",
    "def f(x):\n",
    "    return 3*(x**2)+sp.exp(x)-1"
   ]
  },
  {
   "cell_type": "code",
   "execution_count": 28,
   "metadata": {},
   "outputs": [
    {
     "name": "stdout",
     "output_type": "stream",
     "text": [
      "Aproximación solicitada:  6.103515625e-05\n",
      "Solución exacta con  4  cifras decimales 0.0\n",
      "Número total de iteraciones  14\n"
     ]
    },
    {
     "data": {
      "text/plain": [
       "6.103515625e-05"
      ]
     },
     "execution_count": 28,
     "metadata": {},
     "output_type": "execute_result"
    }
   ],
   "source": [
    "biseccion(f,0,1,4,tol=10**(-4))"
   ]
  },
  {
   "cell_type": "code",
   "execution_count": 29,
   "metadata": {},
   "outputs": [
    {
     "data": {
      "text/latex": [
       "$\\displaystyle 6 x + e^{x}$"
      ],
      "text/plain": [
       "6*x + exp(x)"
      ]
     },
     "execution_count": 29,
     "metadata": {},
     "output_type": "execute_result"
    }
   ],
   "source": [
    "sp.diff(f(x),x)"
   ]
  },
  {
   "cell_type": "code",
   "execution_count": 30,
   "metadata": {},
   "outputs": [],
   "source": [
    "def df(x):\n",
    "    return 6*x+sp.exp(x)"
   ]
  },
  {
   "cell_type": "code",
   "execution_count": 31,
   "metadata": {},
   "outputs": [
    {
     "name": "stdout",
     "output_type": "stream",
     "text": [
      "Sale el programa por  tolerancia\n",
      "Aproximación solicitada:  0\n",
      "Aproximación de la solución con  4  cifras significativas 0.0\n",
      "Número total de iteraciones  1\n"
     ]
    },
    {
     "data": {
      "text/latex": [
       "$\\displaystyle 0$"
      ],
      "text/plain": [
       "0"
      ]
     },
     "execution_count": 31,
     "metadata": {},
     "output_type": "execute_result"
    }
   ],
   "source": [
    "NewtonRaphson(f,df,0,0,1,4,tol=10**(-4))"
   ]
  },
  {
   "cell_type": "markdown",
   "metadata": {},
   "source": [
    "5.- Utilice las órdenes apropiadas de Python para aproximar todos los puntos donde se anulan las funciones siguientes (si es necesario, represéntelas gráficamente):\n",
    "\n",
    "i) $f(x)=x^7-x^4+2$ ,\n",
    "\n",
    "ii) $f(x)=x^7+\\cos  x-3$."
   ]
  },
  {
   "cell_type": "code",
   "execution_count": 32,
   "metadata": {
    "scrolled": true
   },
   "outputs": [
    {
     "data": {
      "text/plain": [
       "[-1,\n",
       " CRootOf(x**6 - x**5 + x**4 - 2*x**3 + 2*x**2 - 2*x + 2, 0),\n",
       " CRootOf(x**6 - x**5 + x**4 - 2*x**3 + 2*x**2 - 2*x + 2, 1),\n",
       " CRootOf(x**6 - x**5 + x**4 - 2*x**3 + 2*x**2 - 2*x + 2, 2),\n",
       " CRootOf(x**6 - x**5 + x**4 - 2*x**3 + 2*x**2 - 2*x + 2, 3),\n",
       " CRootOf(x**6 - x**5 + x**4 - 2*x**3 + 2*x**2 - 2*x + 2, 4),\n",
       " CRootOf(x**6 - x**5 + x**4 - 2*x**3 + 2*x**2 - 2*x + 2, 5)]"
      ]
     },
     "execution_count": 32,
     "metadata": {},
     "output_type": "execute_result"
    }
   ],
   "source": [
    "# APARTADO I\n",
    "# Usamos el comando solve porque no sabemos cuántas raíces tendrá f y luego\n",
    "# aproximamos cada una de ellas\n",
    "\n",
    "def f(x):\n",
    "    return x**7-x**4+2\n",
    "\n",
    "sp.solve(f(x),x)"
   ]
  },
  {
   "cell_type": "code",
   "execution_count": 33,
   "metadata": {},
   "outputs": [
    {
     "data": {
      "text/latex": [
       "$\\displaystyle 7 x^{6} - 4 x^{3}$"
      ],
      "text/plain": [
       "7*x**6 - 4*x**3"
      ]
     },
     "execution_count": 33,
     "metadata": {},
     "output_type": "execute_result"
    }
   ],
   "source": [
    "# Vemos que solo tiene una raíz real. Para aproximar la solución usamos\n",
    "# Newton-Raphson \n",
    "\n",
    "sp.diff(f(x),x)"
   ]
  },
  {
   "cell_type": "code",
   "execution_count": 34,
   "metadata": {},
   "outputs": [],
   "source": [
    "def df(x):\n",
    "    return 7*(x**6)-4*(x**3)"
   ]
  },
  {
   "cell_type": "code",
   "execution_count": 35,
   "metadata": {},
   "outputs": [
    {
     "name": "stdout",
     "output_type": "stream",
     "text": [
      "Sale el programa por  tolerancia\n",
      "Aproximación solicitada:  -1.000000000000661\n",
      "Aproximación de la solución con  5  cifras significativas -1.0\n",
      "Número total de iteraciones  13\n"
     ]
    },
    {
     "data": {
      "text/plain": [
       "-1.000000000000661"
      ]
     },
     "execution_count": 35,
     "metadata": {},
     "output_type": "execute_result"
    }
   ],
   "source": [
    "NewtonRaphson(f,df,-0.5,-1.5,-0.5,5,tol=10**(-5))"
   ]
  },
  {
   "cell_type": "code",
   "execution_count": 36,
   "metadata": {},
   "outputs": [],
   "source": [
    "# APARTADO II\n",
    "# Solo tiene una solución en el intervalo [1,2] \n",
    "\n",
    "def g(x):\n",
    "    return x**7+sp.cos(x)-3"
   ]
  },
  {
   "cell_type": "code",
   "execution_count": 37,
   "metadata": {},
   "outputs": [
    {
     "data": {
      "text/latex": [
       "$\\displaystyle 7 x^{6} - \\sin{\\left(x \\right)}$"
      ],
      "text/plain": [
       "7*x**6 - sin(x)"
      ]
     },
     "execution_count": 37,
     "metadata": {},
     "output_type": "execute_result"
    }
   ],
   "source": [
    "sp.diff(g(x),x)"
   ]
  },
  {
   "cell_type": "code",
   "execution_count": 38,
   "metadata": {},
   "outputs": [],
   "source": [
    "def dg(x):\n",
    "    return 7*(x**6)-sp.sin(x)"
   ]
  },
  {
   "cell_type": "code",
   "execution_count": 39,
   "metadata": {},
   "outputs": [
    {
     "data": {
      "image/png": "[encoded data removed]",
      "text/plain": [
       "<Figure size 640x480 with 1 Axes>"
      ]
     },
     "metadata": {},
     "output_type": "display_data"
    },
    {
     "data": {
      "text/plain": [
       "<sympy.plotting.plot.Plot at 0x1ea49909e80>"
      ]
     },
     "execution_count": 39,
     "metadata": {},
     "output_type": "execute_result"
    }
   ],
   "source": [
    "# Graficamos la función para ver cuántas soluciones tiene ya que solve no funciona\n",
    "\n",
    "a=-1.5\n",
    "b=2\n",
    "sp.plot(g(x),(x,a,b))\n",
    "\n",
    "# Y vemos que solo tiene una en el intervalo [1,2]"
   ]
  },
  {
   "cell_type": "code",
   "execution_count": 40,
   "metadata": {},
   "outputs": [
    {
     "name": "stdout",
     "output_type": "stream",
     "text": [
      "Sale el programa por  tolerancia\n",
      "Aproximación solicitada:  1.14545980727003\n",
      "Aproximación de la solución con  5  cifras significativas 1.14545\n",
      "Número total de iteraciones  6\n"
     ]
    },
    {
     "data": {
      "text/latex": [
       "$\\displaystyle 1.14545980727003$"
      ],
      "text/plain": [
       "1.14545980727003"
      ]
     },
     "execution_count": 40,
     "metadata": {},
     "output_type": "execute_result"
    }
   ],
   "source": [
    "# Usamos Newton-Raphson con semilla 1.5\n",
    "\n",
    "NewtonRaphson(g,dg,1.5,1,2,5,tol=10**(-5))"
   ]
  },
  {
   "cell_type": "markdown",
   "metadata": {},
   "source": [
    " 6.- Aplicar los métodos de aceleración de la convergencia de Aitken y Steffensen (según los apuntes) a las sucesiones obtenidas para los distintos métodos programados en esta práctica y comparar los resultados. Para aplicar el método de aceleración de Steffensen, recuerde que para transformar cualquier ecuación de la forma  $ f(x)=0 $  en un problema de puntos fijos  $ g(x)=x $, la forma más simple puede ser definir  $g(x)=x \\pm f(x)$."
   ]
  },
  {
   "cell_type": "code",
   "execution_count": 41,
   "metadata": {},
   "outputs": [],
   "source": [
    "# PRIMER MÉTODO PROGRAMADO (BISECCIÓN)\n",
    "\n",
    "def biseccion_iteraciones(f, a, b, cifras, nmax=100, prec=10**(-16), tol=10**(-5)):\n",
    "    \n",
    "    prec = 10**(-cifras)\n",
    "    niter = 0; sale =''\n",
    "    iteraciones = []\n",
    "    for k in range(nmax):\n",
    "        niter = niter + 1;\n",
    "        c = a + (b-a)/2 # equivalente a c = (a+b)/2\n",
    "        iteraciones.append(c)\n",
    "        if abs(f(c)) < prec:\n",
    "            sale = 'precision'\n",
    "            break\n",
    "        if sign(f(a)) != sign(f(c)):\n",
    "            b = c\n",
    "        else:\n",
    "            a = c\n",
    "        if b-a < tol:\n",
    "            sale = 'tolerancia'\n",
    "            break\n",
    "\n",
    "    if sale == 'precision':\n",
    "        print('Posiblemente solución exacta: ',c)\n",
    "    elif sale == 'tolerancia':\n",
    "        print('Aproximación solicitada: ',c)\n",
    "    else:\n",
    "        print('Se llegó al número máximo de iteraciones')\n",
    "\n",
    "    print('Número total de iteraciones ', niter)\n",
    "    \n",
    "    return iteraciones"
   ]
  },
  {
   "cell_type": "code",
   "execution_count": 42,
   "metadata": {},
   "outputs": [],
   "source": [
    "# SEGUNDO MÉTODO PROGRAMADO (REGULA-FALSI)\n",
    "\n",
    "def regulafalsi_iteraciones(f, a, b, cifras, nmax=100, prec=10**(-16), tol=10**(-5)):\n",
    "    \n",
    "    prec = 10**(-cifras)\n",
    "    niter = 0; sale =''\n",
    "    iteraciones = []\n",
    "    for k in range(nmax):\n",
    "        niter = niter + 1;\n",
    "        c = a - ((b-a)*f(a))/(f(b)-f(a)) # equivalente a c = b - ((a-b)*f(b))/(f(a)-f(b))\n",
    "        iteraciones.append(c)\n",
    "        if abs(f(c)) < prec:\n",
    "            sale = 'precision'\n",
    "            break\n",
    "        if sign(f(a)) != sign(f(c)):\n",
    "            b = c\n",
    "        else:\n",
    "            a = c\n",
    "        if b-a < tol:\n",
    "            sale = 'tolerancia'\n",
    "            break\n",
    "\n",
    "    if sale == 'precision':\n",
    "        print('Posiblemente solución exacta: ',c)\n",
    "    elif sale == 'tolerancia':\n",
    "        print('Aproximación solicitada: ',c)\n",
    "    else:\n",
    "        print('Se llegó al número máximo de iteraciones')\n",
    "\n",
    "    print('Número total de iteraciones ', niter)\n",
    "    \n",
    "    return iteraciones"
   ]
  },
  {
   "cell_type": "code",
   "execution_count": 43,
   "metadata": {},
   "outputs": [],
   "source": [
    "# TERCER MÉTODO (SECANTE)\n",
    "\n",
    "def secante_iteraciones(f,a,b,cifras,nmax=100,tol=10**(-5),prec=10**(-16)):\n",
    "    \n",
    "    prec = 10**(-cifras)\n",
    "    x0,x1= a,b\n",
    "    iteraciones = []\n",
    "    niter = 0; sale =''\n",
    "    \n",
    "    for k in range(nmax):\n",
    "        \n",
    "        niter = niter + 1;\n",
    "        c = x1 - f(x1)*(x1-x0)/(f(x1)-f(x0))\n",
    "        iteraciones.append(c)\n",
    "        \n",
    "        if abs(x1-x0) < tol:\n",
    "            sale = 'tolerancia'\n",
    "            break\n",
    "        if abs(f(c)) < prec:\n",
    "            sale = 'precision'\n",
    "            break\n",
    "        else:\n",
    "            x0,x1 = x1,c\n",
    "\n",
    "    print('Sale el programa por ',sale)\n",
    "    if sale == 'precision':\n",
    "        print('Posiblemente solución exacta: ',c)\n",
    "    elif sale == 'tolerancia':\n",
    "        print('Aproximación solicitada: ', c)\n",
    "    else:\n",
    "        print('Se llegó al número máximo de iteraciones')\n",
    "        \n",
    "    print('Número total de iteraciones ', niter)\n",
    "    \n",
    "    return iteraciones"
   ]
  },
  {
   "cell_type": "code",
   "execution_count": 44,
   "metadata": {},
   "outputs": [],
   "source": [
    "# CUARTO MÉTODO (NEWTON-RAPHSON)\n",
    "\n",
    "def newtonraphson_iteraciones(f,df,x0,a,b,cifras,nmax=100,tol=10**(-5),prec=10**(-16)):\n",
    "    \n",
    "    prec = 10**(-cifras)\n",
    "    \n",
    "    # Si la semilla no está en el intervalo, se asigna por defecto el extremo\n",
    "    # derecho del mismo\n",
    "    \n",
    "    if x0 < a or x0 > b:\n",
    "        x0 = b\n",
    "    \n",
    "    iteraciones = []\n",
    "    niter = 0; sale =''\n",
    "    \n",
    "    for k in range(nmax):\n",
    "        \n",
    "        niter = niter + 1;\n",
    "        x1 = x0 - f(x0)/df(x0) \n",
    "        iteraciones.append(x1)\n",
    "        \n",
    "        if abs(x1-x0) < tol:\n",
    "            sale = 'tolerancia'\n",
    "            break\n",
    "        if abs(f(x1)) < prec:\n",
    "            sale = 'precision'\n",
    "            break\n",
    "        else:\n",
    "            x0 = x1\n",
    "\n",
    "    print('Sale el programa por ',sale)\n",
    "    if sale == 'precision':\n",
    "        print('Posiblemente solución exacta: ',x1)\n",
    "    elif sale == 'tolerancia':\n",
    "        print('Aproximación solicitada: ', x1)\n",
    "    else:\n",
    "        print('Se llegó al número máximo de iteraciones')\n",
    "\n",
    "    print('Número total de iteraciones ', niter)\n",
    "    \n",
    "    return iteraciones"
   ]
  },
  {
   "cell_type": "code",
   "execution_count": 45,
   "metadata": {},
   "outputs": [],
   "source": [
    "# QUINTO MÉTODO (WHITACKER)\n",
    "\n",
    "def whittaker_iteraciones(f,m,x0,cifras,nmax=100,tol=10**(-5),prec=10**(-16)):\n",
    "    \n",
    "    prec = 10**(-cifras)\n",
    "    iteraciones = [x0]\n",
    "    niter = 0; sale =''\n",
    "    \n",
    "    for k in range(nmax):\n",
    "        \n",
    "        niter = niter + 1;\n",
    "        x1 = x0 - f(x0)/m\n",
    "        iteraciones.append(x1)\n",
    "        \n",
    "        if abs(x1-x0) < tol:\n",
    "            sale = 'tolerancia'\n",
    "            break\n",
    "        if abs(f(x1)) < prec:\n",
    "            sale = 'precision'\n",
    "            break\n",
    "        x0 = x1\n",
    "        \n",
    "    \n",
    "\n",
    "    print('Sale el programa por ',sale)\n",
    "    if sale == 'precision':\n",
    "        print('Posiblemente solución exacta: ',x1)\n",
    "    elif sale == 'tolerancia':\n",
    "        print('Aproximación solicitada: ', x1)\n",
    "    else:\n",
    "        print('Se llegó al número máximo de iteraciones')\n",
    "\n",
    "    print('Número total de iteraciones ', niter)\n",
    "    \n",
    "    return iteraciones"
   ]
  },
  {
   "cell_type": "code",
   "execution_count": 46,
   "metadata": {},
   "outputs": [],
   "source": [
    "# SEXTO MÉTODO (STEFFENSEN)\n",
    "\n",
    "def steffensen_iteraciones(f,x0,cifras,nmax=100,tol=10**(-5),prec=10**(-16)):\n",
    "    \n",
    "    prec = 10**(-cifras)\n",
    "    iteraciones = [x0]\n",
    "    niter = 0; sale =''\n",
    "    \n",
    "    for k in range(nmax):\n",
    "        \n",
    "        niter = niter + 1;\n",
    "        x1 = x0 - f(x0)**2/(f(x0+f(x0))-f(x0))\n",
    "        iteraciones.append(x1)\n",
    "        \n",
    "        if abs(x1-x0) < tol:\n",
    "            sale = 'tolerancia'\n",
    "            break\n",
    "        if abs(f(x1)) < prec:\n",
    "            sale = 'precision'\n",
    "            break\n",
    "        x0 = x1\n",
    "\n",
    "    print('Sale el programa por ',sale)\n",
    "    if sale == 'precision':\n",
    "        print('Posiblemente solución exacta: ',x1)\n",
    "    elif sale == 'tolerancia':\n",
    "        print('Aproximación solicitada: ', x1)\n",
    "    else:\n",
    "        print('Se llegó al número máximo de iteraciones')\n",
    "\n",
    "    print('Número total de iteraciones ', niter)\n",
    "    \n",
    "    return iteraciones"
   ]
  },
  {
   "cell_type": "code",
   "execution_count": 47,
   "metadata": {},
   "outputs": [],
   "source": [
    "# A continuación definimos los métodos de acelerción de Aitken y Steffenson\n",
    "\n",
    "def acelAitken(aprox):\n",
    "    \n",
    "    n = len(aprox)\n",
    "    acelAitken = []\n",
    "    \n",
    "    for k in range(n-2):\n",
    "        aproxacel = aprox[k]-((aprox[k+1]-aprox[k])**2)/(aprox[k+2]-2*aprox[k+1]+aprox[k])\n",
    "        acelAitken.append(aproxacel);\n",
    "        \n",
    "    return acelAitken\n",
    "\n",
    "def acelSteffensen(f, iters, tol=10**(-5)):\n",
    "    g = lambda x: x - f(x) #Usamos la funcion lambda de python para ahorrar código\n",
    "\n",
    "    st = [1]\n",
    "    x0, x1 = 0, 1\n",
    "\n",
    "    while (abs(x1 - x0) >= tol):\n",
    "        v0 = iters[0] - (iters[1] - iters[0])**2/(iters[2] - 2*iters[1]+iters[0])\n",
    "        v1 = g(v0)\n",
    "        v2 = g(v1)\n",
    "        st.append(v0)\n",
    "        iters = [v0, v1, v2]\n",
    "\n",
    "        x1 = st[-1]; x0 = st[-2]\n",
    "\n",
    "    return st[1:]"
   ]
  },
  {
   "cell_type": "markdown",
   "metadata": {},
   "source": [
    " Probaremos los métodos programados con la función del ejercicio 1: $f(x) = x^3+4 x^2 -10  $"
   ]
  },
  {
   "cell_type": "code",
   "execution_count": 48,
   "metadata": {},
   "outputs": [],
   "source": [
    "def f(x):\n",
    "    return x**3 + 4*(x**2) -10\n",
    "\n",
    "def df(x):\n",
    "    return 3*(x**2) + 8*x"
   ]
  },
  {
   "cell_type": "code",
   "execution_count": 49,
   "metadata": {},
   "outputs": [
    {
     "name": "stdout",
     "output_type": "stream",
     "text": [
      "[Bisección]\n",
      "Aproximación solicitada:  1.3652267456054688\n",
      "Número total de iteraciones  17\n",
      "[Regula-Falsi]\n",
      "Posiblemente solución exacta:  1.3652295896738464\n",
      "Número total de iteraciones  10\n",
      "[Secante]\n",
      "Sale el programa por  precision\n",
      "Posiblemente solución exacta:  1.3652300011108591\n",
      "Número total de iteraciones  5\n",
      "[Newton-Raphson]\n",
      "Sale el programa por  tolerancia\n",
      "Aproximación solicitada:  1.3652300134168025\n",
      "Número total de iteraciones  3\n",
      "[Whittaker]\n",
      "Sale el programa por  tolerancia\n",
      "Aproximación solicitada:  1.3652300594705866\n",
      "Número total de iteraciones  5\n",
      "[Steffensen]\n",
      "Sale el programa por  precision\n",
      "Posiblemente solución exacta:  1.3652301303900412\n",
      "Número total de iteraciones  5\n"
     ]
    }
   ],
   "source": [
    "# A continuación vamos a guardar las iteraciones de los 6 métodos. En aquellos en los que sea necesaria una semilla, tomaremos \n",
    "# x0 = 1.3. a y b serán 1 y 2 respectivamente, ya que demostramos en el ejercicio 1 la existencia de una solución en el intervalo\n",
    "# [1,2]. En \n",
    "\n",
    "a = 1; b = 2; x0 = 1.3; m = df(x0); cifras = 5\n",
    "\n",
    "iteraciones = []\n",
    "print(\"[Bisección]\")\n",
    "iteraciones.append(biseccion_iteraciones(f, a, b, cifras))\n",
    "print(\"[Regula-Falsi]\")\n",
    "iteraciones.append(regulafalsi_iteraciones(f, a, b, cifras))\n",
    "print(\"[Secante]\")\n",
    "iteraciones.append(secante_iteraciones(f, a, b, cifras))\n",
    "print(\"[Newton-Raphson]\")\n",
    "iteraciones.append(newtonraphson_iteraciones(f, df, x0, a, b, cifras))\n",
    "print(\"[Whittaker]\")\n",
    "iteraciones.append(whittaker_iteraciones(f, m, x0, cifras))\n",
    "print(\"[Steffensen]\")\n",
    "iteraciones.append(steffensen_iteraciones(f, x0, cifras))"
   ]
  },
  {
   "cell_type": "code",
   "execution_count": 50,
   "metadata": {},
   "outputs": [
    {
     "data": {
      "text/latex": [
       "$\\displaystyle 1.3652300134141$"
      ],
      "text/plain": [
       "1.36523001341410"
      ]
     },
     "execution_count": 50,
     "metadata": {},
     "output_type": "execute_result"
    }
   ],
   "source": [
    "# Nos quedamos con las iteraciones de las aceleraciones de Aitken y Steffenson para los 6 métodos\n",
    "# cuyas iteraciones ya tenemos\n",
    "\n",
    "iteraciones_aitken = []\n",
    "iteraciones_steffensen = []\n",
    "\n",
    "for it in iteraciones:\n",
    "    iteraciones_aitken.append(acelAitken(it))\n",
    "    iteraciones_steffensen.append(acelSteffensen(f, it))\n",
    "\n",
    "expr = x**3 + 4*(x**2) - 10\n",
    "sol_exacta = solve(expr)\n",
    "sol_exacta[2].evalf()"
   ]
  },
  {
   "cell_type": "code",
   "execution_count": 51,
   "metadata": {},
   "outputs": [],
   "source": [
    "valor_exacto = 1.3652300134141"
   ]
  },
  {
   "cell_type": "code",
   "execution_count": 52,
   "metadata": {},
   "outputs": [
    {
     "name": "stdout",
     "output_type": "stream",
     "text": [
      "Algoritmo                 Error algoritmo     n               Error Aitken     n           Error Steffensen     n\n",
      "-------------- -------------------------- ----- -------------------------- ----- -------------------------- -----\n",
      "Bisección           3.267808631246538e-06    17      4.361585900003462e-06    15      4.027445044130218e-12     5\n",
      "Regula-Falsi       4.2374025355229605e-07    10     1.0651479698253752e-12     8       2.19779749954796e-12     3\n",
      "Secante            1.2303240870537024e-08     5     2.4255567598885364e-07     3      5.995204332975845e-15     5\n",
      "Newton-Raphson      2.702504886542556e-12     3      2.521826969470453e-09     1     3.1086244689504383e-15     2\n",
      "Whittaker          4.6056486624479476e-08     6     3.3921754294397033e-12     4     1.4654943925052066e-14     3\n",
      "Steffensen         1.1697594115567256e-07     6     3.7732270481427577e-06     4      4.796674168972004e-11     5\n"
     ]
    }
   ],
   "source": [
    "# A continuación comparamos cada método con su aceleración por Aitken y Steffensen, asi como el\n",
    "# número de iteraciones empleadas\n",
    "\n",
    "row = [\"Algoritmo\", \"Error algoritmo\", \"n\", \"Error Aitken\", \"n\", \"Error Steffensen\", \"n\"]\n",
    "print(\"{: <14} {: >26} {: >5} {: >26} {: >5} {: >26} {: >5}\".format(*row))\n",
    "print(\"-------------- -------------------------- ----- -------------------------- ----- -------------------------- -----\")\n",
    "\n",
    "algoritmos = [\"Bisección\", \"Regula-Falsi\", \"Secante\", \"Newton-Raphson\", \"Whittaker\", \"Steffensen\"]\n",
    "\n",
    "for i in range(len(algoritmos)):\n",
    "    row = [algoritmos[i]]\n",
    "\n",
    "    #Calculamos el error de los algoritmos\n",
    "    n = len(iteraciones[i])\n",
    "    val = iteraciones[i][n-1]\n",
    "    row.append(abs(val - valor_exacto))\n",
    "    row.append(n)\n",
    "\n",
    "    #Calculamos el error de Aitken\n",
    "    n = len(iteraciones_aitken[i])\n",
    "    val = iteraciones_aitken[i][n-1]\n",
    "    row.append(abs(val - valor_exacto))\n",
    "    row.append(n)\n",
    "\n",
    "    #Calculamos el error de Steffensen\n",
    "    n = len(iteraciones_steffensen[i])\n",
    "    val = iteraciones_steffensen[i][n-1]\n",
    "    row.append(abs(val - valor_exacto))\n",
    "    row.append(n)\n",
    "\n",
    "    print(\"{: <14} {: >26} {: >5} {: >26} {: >5} {: >26} {: >5}\".format(*row))"
   ]
  },
  {
   "cell_type": "markdown",
   "metadata": {},
   "source": [
    "7.- Programar el método de Newton-Raphson acelerado, partiendo de cierto $x_0$ adecuado: $$x_{n+1}=x_n - m\\frac{f(x_n)}{f'(x_n)}, \\quad n=0,1,2,\\ldots$$ para el caso de una raíz múltiple (de multiplicidad $m\\in\\mathbb{N}$) de una ecuación del tipo $f(x)=0$ y comparar los resultados\n",
    "con los que se obtienen mediante el empleo de los métodos de aceleración habituales de Aitken y Steffensen (según los apuntes)."
   ]
  },
  {
   "cell_type": "code",
   "execution_count": 53,
   "metadata": {},
   "outputs": [],
   "source": [
    "# Comenzamos definiendo el método de Newton-Raphson acelerado\n",
    "\n",
    "def NewtonRaphsonAcelerado(f,df,x0,a,b,m,cifras,nmax=100,tol=10**(-5),prec=10**(-16)):\n",
    "    \n",
    "    # Si la semilla no está en el intervalo, se asigna por defecto el extremo\n",
    "    # derecho del mismo\n",
    "    \n",
    "    if x0 < a or x0 > b:\n",
    "        x0 = b\n",
    "    \n",
    "    niter = 0; sale =''\n",
    "    \n",
    "    for k in range(nmax):\n",
    "        \n",
    "        niter = niter + 1;\n",
    "        x1 = x0 - m*f(x0)/df(x0)\n",
    "        \n",
    "        if abs(x1-x0) < tol:\n",
    "            sale = 'tolerancia'\n",
    "            break\n",
    "        if abs(f(x1)) < prec:\n",
    "            sale = 'precision'\n",
    "            break\n",
    "        else:\n",
    "            x0 = x1\n",
    "\n",
    "    print('Sale el programa por ',sale)\n",
    "    if sale == 'precision':\n",
    "        print('Posiblemente solución exacta: ',x1)\n",
    "    elif sale == 'tolerancia':\n",
    "        print('Aproximación solicitada: ', x1)\n",
    "    else:\n",
    "        print('Se llegó al número máximo de iteraciones')\n",
    "    \n",
    "    print('Aproximación de la solución con ', cifras, ' cifras significativas', truncate(x1,cifras))\n",
    "    print('Número total de iteraciones ', niter)\n",
    "    \n",
    "    return x1"
   ]
  },
  {
   "cell_type": "markdown",
   "metadata": {},
   "source": [
    "Vamos a probar el método definido con la siguiente función que tiene $x = 2$ como raíz doble: $f(x) = (x-2)^{2}(x+3)$"
   ]
  },
  {
   "cell_type": "code",
   "execution_count": 54,
   "metadata": {},
   "outputs": [],
   "source": [
    "def f(x):\n",
    "    return ((x-2)**2)*(x+3)"
   ]
  },
  {
   "cell_type": "code",
   "execution_count": 55,
   "metadata": {},
   "outputs": [
    {
     "data": {
      "text/latex": [
       "$\\displaystyle \\left(x - 2\\right)^{2} + \\left(x + 3\\right) \\left(2 x - 4\\right)$"
      ],
      "text/plain": [
       "(x - 2)**2 + (x + 3)*(2*x - 4)"
      ]
     },
     "execution_count": 55,
     "metadata": {},
     "output_type": "execute_result"
    }
   ],
   "source": [
    "sp.diff(f(x),x)"
   ]
  },
  {
   "cell_type": "code",
   "execution_count": 56,
   "metadata": {},
   "outputs": [],
   "source": [
    "def df(x):\n",
    "    return (x-2)**2 + (x+3)*(2*x-4)"
   ]
  },
  {
   "cell_type": "code",
   "execution_count": 57,
   "metadata": {
    "scrolled": true
   },
   "outputs": [
    {
     "name": "stdout",
     "output_type": "stream",
     "text": [
      "Sale el programa por  precision\n",
      "Posiblemente solución exacta:  2.0000000007027077\n",
      "Aproximación de la solución con  7  cifras significativas 2.0\n",
      "Número total de iteraciones  5\n"
     ]
    },
    {
     "data": {
      "text/plain": [
       "2.0000000007027077"
      ]
     },
     "execution_count": 57,
     "metadata": {},
     "output_type": "execute_result"
    }
   ],
   "source": [
    "# Usamos como semilla x0 = 15 en el intervalo [0,20] ya que este método converge muy rápido.\n",
    "# La multiplicidad de la raíz que buscamos es m = 2 y queremos 7 cifras significativas\n",
    "\n",
    "NewtonRaphsonAcelerado(f,df,15,0,20,2,7)"
   ]
  },
  {
   "cell_type": "code",
   "execution_count": 58,
   "metadata": {},
   "outputs": [
    {
     "name": "stdout",
     "output_type": "stream",
     "text": [
      "Sale el programa por  precision\n",
      "Posiblemente solución exacta:  2.0000838287263285\n",
      "Aproximación de la solución con  7  cifras significativas 2.0000838\n",
      "Número total de iteraciones  4\n"
     ]
    }
   ],
   "source": [
    "# Ahora definimos el método anterior pero que devuelve las iteraciones para ser usadas\n",
    "# por los métodos de aceleración de Aitken y Steffensen\n",
    "\n",
    "def NewtonRaphsonAcelerado_iteraciones(f,df,x0,a,b,m,cifras,nmax=100,tol=10**(-5),prec=10**(-16)):\n",
    "    \n",
    "    prec = 10**(-cifras)\n",
    "    iteraciones = []\n",
    "    \n",
    "    # Si la semilla no está en el intervalo, se asigna por defecto el extremo\n",
    "    # derecho del mismo\n",
    "    \n",
    "    if x0 < a or x0 > b:\n",
    "        x0 = b\n",
    "    \n",
    "    niter = 0; sale =''\n",
    "    \n",
    "    for k in range(nmax):\n",
    "        \n",
    "        niter = niter + 1;\n",
    "        x1 = x0 - m*f(x0)/df(x0)\n",
    "        iteraciones.append(x1)\n",
    "        \n",
    "        if abs(x1-x0) < tol:\n",
    "            sale = 'tolerancia'\n",
    "            break\n",
    "        if abs(f(x1)) < prec:\n",
    "            sale = 'precision'\n",
    "            break\n",
    "        else:\n",
    "            x0 = x1\n",
    "\n",
    "    print('Sale el programa por ',sale)\n",
    "    if sale == 'precision':\n",
    "        print('Posiblemente solución exacta: ',x1)\n",
    "    elif sale == 'tolerancia':\n",
    "        print('Aproximación solicitada: ', x1)\n",
    "    else:\n",
    "        print('Se llegó al número máximo de iteraciones')\n",
    "    \n",
    "    print('Aproximación de la solución con ', cifras, ' cifras significativas', truncate(x1,cifras))\n",
    "    print('Número total de iteraciones ', niter)\n",
    "    \n",
    "    return iteraciones\n",
    "\n",
    "iteraciones = NewtonRaphsonAcelerado_iteraciones(f,df,15,0,20,2,7)"
   ]
  },
  {
   "cell_type": "code",
   "execution_count": 59,
   "metadata": {},
   "outputs": [],
   "source": [
    "# Aplicamos la aceleración de Aitken y Steffensen sobre las iteraciones calculadas\n",
    "\n",
    "iteraciones_aitken = []\n",
    "iteraciones_steffensen = []\n",
    "\n",
    "iteraciones_aitken = acelAitken(iteraciones)\n",
    "iteraciones_steffensen = acelSteffensen(f, iteraciones)"
   ]
  },
  {
   "cell_type": "code",
   "execution_count": 60,
   "metadata": {},
   "outputs": [
    {
     "name": "stdout",
     "output_type": "stream",
     "text": [
      "Error Newton-Raphson acelerado               n               Error Aitken     n           Error Steffensen     n\n",
      "---------------------------------------- ----- -------------------------- ----- -------------------------- -----\n",
      "8.382872632850535e-05                        4      0.0015128306798692925     2      5.034382778212887e-06    16\n"
     ]
    }
   ],
   "source": [
    "# Por último mostramos el error de la aproximación de los 3 métodos y el número de\n",
    "# iteraciones realizadas\n",
    "\n",
    "row = [\"Error Newton-Raphson acelerado\", \"n\", \"Error Aitken\", \"n\", \"Error Steffensen\", \"n\"]\n",
    "print(\"{: <40} {: >5} {: >26} {: >5} {: >26} {: >5}\".format(*row))\n",
    "print(\"---------------------------------------- ----- -------------------------- ----- -------------------------- -----\")\n",
    "\n",
    "row = []\n",
    "\n",
    "#Calculamos el error de Newton-Raphson acelerado\n",
    "\n",
    "n = len(iteraciones)\n",
    "val = iteraciones[n-1]\n",
    "row.append(abs(val - 2.0))\n",
    "row.append(n)\n",
    "\n",
    "#Calculamos el error de Aitken\n",
    "\n",
    "n = len(iteraciones_aitken)\n",
    "val = iteraciones_aitken[n-1]\n",
    "row.append(abs(val - 2.0))\n",
    "row.append(n)\n",
    "\n",
    "#Calculamos el error de Steffensen\n",
    "\n",
    "n = len(iteraciones_steffensen)\n",
    "val = iteraciones_steffensen[n-1]\n",
    "row.append(abs(val - 2.0))\n",
    "row.append(n)\n",
    "\n",
    "print(\"{: <40} {: >5} {: >26} {: >5} {: >26} {: >5}\".format(*row))"
   ]
  },
  {
   "cell_type": "markdown",
   "metadata": {},
   "source": [
    "8.- Programar el conocido algoritmo de Horner para la evaluación de un polinomio y emplearlo de forma reiterativa para el cálculo del desarrollo de Taylor de orden $ n$ de un polinomio cualquiera. Aprovecharlo también para programar una versión especial del método de Newton-Raphson para polinomios, evaluando tanto  $ p(x_k ) $ como $ p'(x_k)$ mediante el citado algoritmo y aplicarlo para aproximar alguna de las raíces reales del siguiente polinomio\n",
    "\n",
    "$$p(x)=d_0 + d_1 x + d_2 x^2 + d_3 x^3+ d_4 x^4 + d_5 x^5 + d_6 x^6 + d_7 x^7 $$\n",
    "(siendo $d_0, d_1, \\ldots, d_7$ los dígitos ordenados de su DNI, pasaporte o tarjeta de residente).\n",
    "\n",
    "Programar y construir también una sucesión de Sturm para dicho polinomio."
   ]
  },
  {
   "cell_type": "markdown",
   "metadata": {},
   "source": [
    "Mi DNI es = $76067985$. Por lo tanto, el polinomio será $7 + 6x + 6x^{3} + 7x^{4} + 9x^{5} + 8x^{6} + 5x^{7}$"
   ]
  },
  {
   "cell_type": "code",
   "execution_count": 61,
   "metadata": {},
   "outputs": [],
   "source": [
    "def p(x):\n",
    "    return 7 + 6*x + 6*(x**3) + 7*(x**4) + 9*(x**5) + 8*(x**6) + 5*(x**7)"
   ]
  },
  {
   "cell_type": "code",
   "execution_count": 62,
   "metadata": {},
   "outputs": [],
   "source": [
    "# Definimos una función para extraer los coeficientes de un polinomio:\n",
    "\n",
    "def get_coef(p):\n",
    "\n",
    "    coeficientes = sp.Poly(p(x),x).all_coeffs()\n",
    "    return coeficientes"
   ]
  },
  {
   "cell_type": "code",
   "execution_count": 63,
   "metadata": {},
   "outputs": [
    {
     "data": {
      "text/plain": [
       "[5, 8, 9, 7, 6, 0, 6, 7]"
      ]
     },
     "execution_count": 63,
     "metadata": {},
     "output_type": "execute_result"
    }
   ],
   "source": [
    "a = get_coef(p)\n",
    "a"
   ]
  },
  {
   "cell_type": "code",
   "execution_count": 64,
   "metadata": {},
   "outputs": [],
   "source": [
    "def horner(p, x0):\n",
    "    \n",
    "    coeficientes = get_coef(p)\n",
    "\n",
    "    b = coeficientes[0]\n",
    "    \n",
    "    for k in range(1,len(coeficientes)):\n",
    "        \n",
    "        b = coeficientes[k] + b*x0\n",
    "\n",
    "    return b"
   ]
  },
  {
   "cell_type": "code",
   "execution_count": 65,
   "metadata": {},
   "outputs": [
    {
     "data": {
      "text/latex": [
       "$\\displaystyle 48$"
      ],
      "text/plain": [
       "48"
      ]
     },
     "execution_count": 65,
     "metadata": {},
     "output_type": "execute_result"
    }
   ],
   "source": [
    "horner(p,1)"
   ]
  },
  {
   "cell_type": "code",
   "execution_count": 66,
   "metadata": {},
   "outputs": [],
   "source": [
    "# Y definimos el método de Newton-Raphson usando Horner para evaluar\n",
    "# el polinomio y su derivada\n",
    "\n",
    "def NewtonRaphsonHorner(p,dp,x0,a,b,cifras,nmax=100,tol=10**(-5),prec=10**(-16)):\n",
    "    \n",
    "    prec = 10*(-cifras)\n",
    "    \n",
    "    if x0 < a or x0 > b:\n",
    "        x0 = b\n",
    "    \n",
    "    niter = 0; sale =''\n",
    "    \n",
    "    for k in range(nmax):\n",
    "        \n",
    "        niter = niter + 1;\n",
    "        x1 = x0 - horner(p,x0)/horner(dp,x0)\n",
    "        \n",
    "        if abs(x1-x0) < tol:\n",
    "            sale = 'tolerancia'\n",
    "            break\n",
    "        if abs(f(x1)) < prec:\n",
    "            sale = 'precision'\n",
    "            break\n",
    "        else:\n",
    "            x0 = x1\n",
    "\n",
    "    print('Sale el programa por ',sale)\n",
    "    if sale == 'precision':\n",
    "        print('Posiblemente solución exacta: ',x1)\n",
    "    elif sale == 'tolerancia':\n",
    "        print('Aproximación solicitada: ', x1)\n",
    "    else:\n",
    "        print('Se llegó al número máximo de iteraciones')\n",
    "    \n",
    "    print('Aproximación de la solución con ', cifras, ' cifras significativas', truncate(x1,cifras))\n",
    "    print('Número total de iteraciones ', niter)\n",
    "    \n",
    "    return x1"
   ]
  },
  {
   "cell_type": "code",
   "execution_count": 67,
   "metadata": {},
   "outputs": [
    {
     "data": {
      "text/latex": [
       "$\\displaystyle 35 x^{6} + 48 x^{5} + 45 x^{4} + 28 x^{3} + 18 x^{2} + 6$"
      ],
      "text/plain": [
       "35*x**6 + 48*x**5 + 45*x**4 + 28*x**3 + 18*x**2 + 6"
      ]
     },
     "execution_count": 67,
     "metadata": {},
     "output_type": "execute_result"
    }
   ],
   "source": [
    "sp.diff(p(x),x)"
   ]
  },
  {
   "cell_type": "code",
   "execution_count": 68,
   "metadata": {},
   "outputs": [],
   "source": [
    "def dp(x):\n",
    "    return 35*(x**6) + 48*(x**5) + 45*(x**4) + 28*(x**3) + 18*(x**2) + 6"
   ]
  },
  {
   "cell_type": "code",
   "execution_count": 69,
   "metadata": {},
   "outputs": [
    {
     "name": "stdout",
     "output_type": "stream",
     "text": [
      "Sale el programa por  tolerancia\n",
      "Aproximación solicitada:  -0.806235091439195\n",
      "Aproximación de la solución con  5  cifras significativas -0.80623\n",
      "Número total de iteraciones  6\n"
     ]
    },
    {
     "data": {
      "text/latex": [
       "$\\displaystyle -0.806235091439195$"
      ],
      "text/plain": [
       "-0.806235091439195"
      ]
     },
     "execution_count": 69,
     "metadata": {},
     "output_type": "execute_result"
    }
   ],
   "source": [
    "# Tomamos como semilla x0 = -0.2 en el intervalo [-1,0]. Pedimos 5 cifras decimales\n",
    "\n",
    "NewtonRaphsonHorner(p,dp,-0.2,-1,0,5,nmax=100,tol=10**(-5),prec=10**(-16))"
   ]
  },
  {
   "cell_type": "code",
   "execution_count": 70,
   "metadata": {},
   "outputs": [],
   "source": [
    "# Por último definimos el método que calcula la sucesión de Sturm de un polinomio\n",
    "\n",
    "def sucesion_sturm(f):\n",
    "\n",
    "    sturm = [f(x), sp.diff(f(x),x)]\n",
    "\n",
    "    i = 1\n",
    "\n",
    "    while sp.degree(sturm[i]) > 0:\n",
    "        i += 1\n",
    "        sturm.append(-(sp.rem(sturm[i-2],sturm[i-1])))\n",
    "\n",
    "    return sturm"
   ]
  },
  {
   "cell_type": "code",
   "execution_count": 71,
   "metadata": {},
   "outputs": [
    {
     "data": {
      "text/plain": [
       "[5*x**7 + 8*x**6 + 9*x**5 + 7*x**4 + 6*x**3 + 6*x + 7,\n",
       " 35*x**6 + 48*x**5 + 45*x**4 + 28*x**3 + 18*x**2 + 6,\n",
       " -246*x**5/245 - 75*x**4/49 - 88*x**3/35 + 144*x**2/245 - 36*x/7 - 1667/245,\n",
       " 695555*x**4/20172 - 312130*x**3/5043 + 276360*x**2/1681 + 2115575*x/10086 - 852845/20172,\n",
       " 7325206288*x**3/1974680645 - 8920320636*x**2/394936129 - 27449412096*x/1974680645 + 21505685228/1974680645,\n",
       " -9536992596045242265*x**2/7980167632622656 - 1323354494821661085*x/1995041908155664 + 3806103906158910825/7980167632622656,\n",
       " -6443953858454958224281622912*x/5117802381943118903589405845 - 5398769166433832049530935168/5117802381943118903589405845,\n",
       " -63036483175013503035021037675279221738255/325216706289364304968421673529341810064]"
      ]
     },
     "execution_count": 71,
     "metadata": {},
     "output_type": "execute_result"
    }
   ],
   "source": [
    "sucesion_sturm(p)"
   ]
  }
 ],
 "metadata": {
  "anaconda-cloud": {},
  "kernelspec": {
   "display_name": "Python 3 (ipykernel)",
   "language": "python",
   "name": "python3"
  },
  "language_info": {
   "codemirror_mode": {
    "name": "ipython",
    "version": 3
   },
   "file_extension": ".py",
   "mimetype": "text/x-python",
   "name": "python",
   "nbconvert_exporter": "python",
   "pygments_lexer": "ipython3",
   "version": "3.9.13"
  }
 },
 "nbformat": 4,
 "nbformat_minor": 4
}
