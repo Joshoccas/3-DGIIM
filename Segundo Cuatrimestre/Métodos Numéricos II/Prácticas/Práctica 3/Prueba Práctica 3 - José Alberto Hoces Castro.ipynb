{
 "cells": [
  {
   "cell_type": "markdown",
   "id": "ba797162",
   "metadata": {},
   "source": [
    "## MÉTODOS NUMÉRICOS II\n",
    "\n",
    "### Prueba Práctica 3 - 05/06/2023\n",
    "\n",
    "Alumno: José Alberto Hoces Castro"
   ]
  },
  {
   "cell_type": "code",
   "execution_count": 1,
   "id": "23798e05",
   "metadata": {},
   "outputs": [],
   "source": [
    "import numpy as np\n",
    "import sympy as sp\n",
    "import matplotlib.pyplot as plt\n",
    "from tabulate import tabulate\n",
    "%matplotlib inline\n",
    "from time import perf_counter as now"
   ]
  },
  {
   "cell_type": "markdown",
   "id": "ceb99586",
   "metadata": {},
   "source": [
    "Se nos pide resolver el PVI $y'(t) = \\frac{t-y(t)}{2}$ para $t \\in [0,1]$ y $y(0)=1$ utilizando los métodos de Euler explícito (Adam-Bashfort para k = 1), Adam-Bashfort para k = 2 y Adam-Bashfort para k = 3. Luego, los compararemos entre sí y con la solución exacta. Por ello, vamos a definir la función y obtener su solución exacta:"
   ]
  },
  {
   "cell_type": "code",
   "execution_count": 2,
   "id": "6c1f46e9",
   "metadata": {},
   "outputs": [],
   "source": [
    "a, b = 0, 1\n",
    "ya = 1\n",
    "AB1, AB2, AB3 = [], [], []\n",
    "t, y0, z = sp.symbols('t, y_0,  z')\n",
    "\n",
    "def f(t,z):\n",
    "    return (t-z)/float(2)"
   ]
  },
  {
   "cell_type": "code",
   "execution_count": 3,
   "id": "52df63cd",
   "metadata": {},
   "outputs": [],
   "source": [
    "# Definimos y como una función simbólica\n",
    "y = sp.Function('y')\n",
    "\n",
    "# Declaramos la EDO\n",
    "edo = y(t).diff(t)-f(t,y(t))\n",
    "\n",
    "# La igualamos a 0\n",
    "sp.Eq(edo,0)\n",
    "\n",
    "# Resolvemos simbólicamente la EDO\n",
    "edo_sol = sp.dsolve(edo)\n",
    "\n",
    "# Imponemos las condiciones iniciales\n",
    "ics = {y(0): y0}\n",
    "\n",
    "# De esta manera haríamos la sustituciones correspondientes\n",
    "edo_sol.rhs.subs(t, 0),edo_sol.lhs.subs(t, 0).subs(ics)\n",
    "\n",
    "# Ecuación asociada al PVI\n",
    "CI_eq = sp.Eq(edo_sol.lhs.subs(t, 0).subs(ics),edo_sol.rhs.subs(t, 0))\n",
    "\n",
    "# Solución del PVI\n",
    "CI_sol = sp.solve(CI_eq)\n",
    "\n",
    "# Única solución exacta de nuestro PVI \n",
    "sol_exacta = edo_sol.rhs.subs(CI_sol[0]).subs({y0:ya})"
   ]
  },
  {
   "cell_type": "code",
   "execution_count": 4,
   "id": "cf2cef62",
   "metadata": {},
   "outputs": [
    {
     "data": {
      "text/latex": [
       "$\\displaystyle 1.0 t - 2.0 + 3.0 e^{- 0.5 t}$"
      ],
      "text/plain": [
       "1.0*t - 2.0 + 3.0*exp(-0.5*t)"
      ]
     },
     "execution_count": 4,
     "metadata": {},
     "output_type": "execute_result"
    }
   ],
   "source": [
    "sol_exacta"
   ]
  },
  {
   "cell_type": "code",
   "execution_count": 5,
   "id": "e3978665",
   "metadata": {},
   "outputs": [],
   "source": [
    "# Ahora almacenaremos las soluciones exactas en un array para posteriores comparaciones:\n",
    "\n",
    "y_x = sp.lambdify(t, sol_exacta, 'numpy')\n",
    "xx = np.linspace(a,b,100)"
   ]
  },
  {
   "cell_type": "markdown",
   "id": "19c3edd0",
   "metadata": {},
   "source": [
    "A continuación vamos a definir los 3 métodos que se nos piden:"
   ]
  },
  {
   "cell_type": "code",
   "execution_count": 6,
   "id": "a4423b2a",
   "metadata": {},
   "outputs": [],
   "source": [
    "def Eulerexplicitointegrate(F,x0,y0,xfinal,N):    \n",
    "    X = np.linspace(x0,xfinal,N+1)\n",
    "    Y = [y0]; h = (xfinal-x0)/N\n",
    "    for n in range(N):\n",
    "        Y.append(Y[n] + h*F(X[n],Y[n]))\n",
    "    return np.array(X),np.array(Y)"
   ]
  },
  {
   "cell_type": "code",
   "execution_count": 7,
   "id": "d43cb1b5",
   "metadata": {},
   "outputs": [],
   "source": [
    "def AB2integrate(F,x0,y0,xfinal,N):\n",
    "    \n",
    "    def AB2(F,x0,y0,y1,h):\n",
    "        return (3*F(x0+h,y1)-F(x0,y0))/2    \n",
    "    \n",
    "    X = np.linspace(x0,xfinal,N+1)\n",
    "    h = (xfinal-x0)/N\n",
    "    y1 = y0 + h*F(x0,y0); Y = [y0,y1]\n",
    "    for n in range(N-1):\n",
    "        Y.append(Y[n+1] + h*AB2(F,X[n],Y[n],Y[n+1],h))\n",
    "    return np.array(X),np.array(Y)"
   ]
  },
  {
   "cell_type": "code",
   "execution_count": 8,
   "id": "6c59e973",
   "metadata": {},
   "outputs": [],
   "source": [
    "def AB3integrate(F,x0,y0,xfinal,N):\n",
    "    \n",
    "    def AB3(F,x0,y0,y1,y2,h):\n",
    "        return (23*F(x0+2*h,y2)-16*F(x0+h,y1) + 5*F(x0,y0))/12    \n",
    "    \n",
    "    X = np.linspace(x0,xfinal,N+1)\n",
    "    h = (xfinal-x0)/N\n",
    "    y1 = y0 + h*F(x0,y0)\n",
    "    y2 = y1 + h*(3*F(x0+h,y1)-F(x0,y0))/2\n",
    "    Y = [y0,y1,y2]\n",
    "    for n in range(N-2):\n",
    "        Y.append(Y[n+2] + h*AB3(F,X[n],Y[n],Y[n+1],Y[n+2],h))\n",
    "    return np.array(X),np.array(Y)"
   ]
  },
  {
   "cell_type": "markdown",
   "id": "c8fca744",
   "metadata": {},
   "source": [
    "Una vez tenemos los métodos programados, procedemos a realizar las comparaciones. Como nos pide que las calculemos con $h=0.1$, he definido la función según $N$ que es el número de iteraciones que queremos  para conseguir dicho $h$. Como el intervalo es el $[0,1]$, necesitaremos $N  = \\frac{1-0}{h} = 10$ iteraciones. "
   ]
  },
  {
   "cell_type": "code",
   "execution_count": 9,
   "id": "0d7dcdea",
   "metadata": {},
   "outputs": [],
   "source": [
    "N = 10\n",
    "errorEulerexplicito, errorAB2, errorAB3 = ['Error max Euler explícito'], ['Error max Adam-Bashfort 2'], ['Error max Adam-Bashfort 3']\n",
    "\n",
    "AB1 = {'xx': Eulerexplicitointegrate(f,a,ya,b,N)[0], 'yy': Eulerexplicitointegrate(f,a,ya,b,N)[1]}\n",
    "AB2 = {'xx': AB2integrate(f,a,ya,b,N)[0], 'yy': AB2integrate(f,a,ya,b,N)[1]}\n",
    "AB3 = {'xx': AB3integrate(f,a,ya,b,N)[0], 'yy': AB3integrate(f,a,ya,b,N)[1]}\n",
    "errorEulerexplicito.append(max(abs(AB1['yy']-y_x(AB1['xx']))))\n",
    "errorAB2.append(max(abs(AB2['yy']-y_x(AB2['xx']))))\n",
    "errorAB3.append(max(abs(AB3['yy']-y_x(AB3['xx']))))\n",
    "errores1 = abs(AB1['yy']-y_x(AB1['xx']))\n",
    "errores2 = abs(AB2['yy']-y_x(AB2['xx']))\n",
    "errores3 = abs(AB3['yy']-y_x(AB3['xx']))"
   ]
  },
  {
   "cell_type": "markdown",
   "id": "7ed9234d",
   "metadata": {},
   "source": [
    "A continuación imprimimos los resultados:"
   ]
  },
  {
   "cell_type": "code",
   "execution_count": 10,
   "id": "161cf7b7",
   "metadata": {},
   "outputs": [
    {
     "name": "stdout",
     "output_type": "stream",
     "text": [
      "-------------------------  ----------\n",
      "Error max Euler explícito  0.0233812\n",
      "Error max Adam-Bashfort 2  0.00368827\n",
      "Error max Adam-Bashfort 3  0.00368827\n",
      "-------------------------  ----------\n"
     ]
    },
    {
     "data": {
      "text/plain": [
       "(['Error max Euler explícito', 0.023381161422763586],\n",
       " ['Error max Adam-Bashfort 2', 0.003688273502141959],\n",
       " ['Error max Adam-Bashfort 3', 0.003688273502141959])"
      ]
     },
     "execution_count": 10,
     "metadata": {},
     "output_type": "execute_result"
    }
   ],
   "source": [
    "print(tabulate([errorEulerexplicito, errorAB2, errorAB3]))\n",
    "errorEulerexplicito, errorAB2, errorAB3"
   ]
  },
  {
   "cell_type": "code",
   "execution_count": 11,
   "id": "1d5e0791",
   "metadata": {},
   "outputs": [
    {
     "data": {
      "image/png": "[encoded data removed]",
      "text/plain": [
       "<Figure size 800x400 with 1 Axes>"
      ]
     },
     "metadata": {},
     "output_type": "display_data"
    }
   ],
   "source": [
    "# A continuación graficamos la solución exacta junto con las 3 aproximaciones halladas\n",
    "\n",
    "fig, ax = plt.subplots(figsize=(8, 4))\n",
    "ax.plot(AB1['xx'],AB1['yy'], 'yo',label = \"aprox. mét. Adam-Bashfort 1\".format(N))\n",
    "ax.plot(AB2['xx'],AB2['yy'], 'co',label = \"aprox. mét. Adam-Bashfort 2\".format(N))\n",
    "ax.plot(AB3['xx'],AB3['yy'], 'mo',label = \"aprox. mét. Adam-Bashfort 3\".format(N))\n",
    "ax.plot(xx, y_x(xx), label=\"sol. exacta\")\n",
    "ax.set_title(r\"Sol. exacta:  $y(t)=%s$\" % sp.latex(sol_exacta), fontsize=18)\n",
    "ax.set_xlabel(r\"$t$\", fontsize=18)\n",
    "ax.set_ylabel(r\"$y$\", fontsize=18)\n",
    "ax.legend()\n",
    "fig.tight_layout()"
   ]
  },
  {
   "cell_type": "markdown",
   "id": "b165d8a2",
   "metadata": {},
   "source": [
    "A la vista de los resultados, Adam-Bashfort 2 y Adam-Bashfort 3 tienen la misma precisión en cuanto al máximo de los errores en valor absoluto, así que en este caso usaríamos indistintamente uno u otro. Como último criterio, vamos a hallar el error en valor absoluto en el extremo derecho del intervalo:"
   ]
  },
  {
   "cell_type": "code",
   "execution_count": 12,
   "id": "7be93998",
   "metadata": {},
   "outputs": [
    {
     "data": {
      "text/plain": [
       "0.023381161422763586"
      ]
     },
     "execution_count": 12,
     "metadata": {},
     "output_type": "execute_result"
    }
   ],
   "source": [
    "errores1[N]"
   ]
  },
  {
   "cell_type": "raw",
   "id": "b2163f86",
   "metadata": {},
   "source": [
    "errores2[N]"
   ]
  },
  {
   "cell_type": "code",
   "execution_count": 13,
   "id": "261445d2",
   "metadata": {},
   "outputs": [
    {
     "data": {
      "text/plain": [
       "0.002282305826566189"
      ]
     },
     "execution_count": 13,
     "metadata": {},
     "output_type": "execute_result"
    }
   ],
   "source": [
    "errores3[N]"
   ]
  },
  {
   "cell_type": "markdown",
   "id": "4f18dbd6",
   "metadata": {},
   "source": [
    "No sé por qué no se me evalúan los errores de AB2 en el extremo derecho, pero para concluir cuál es mejor usar, afirmaría que AB3 ya que hemos visto en teoría que tiene un orden de exactitud mayor que AB1 y AB2. En otros casos, y para valores distintos de h sí se apreciaría la diferencia entre AB2 y AB3."
   ]
  }
 ],
 "metadata": {
  "kernelspec": {
   "display_name": "Python 3 (ipykernel)",
   "language": "python",
   "name": "python3"
  },
  "language_info": {
   "codemirror_mode": {
    "name": "ipython",
    "version": 3
   },
   "file_extension": ".py",
   "mimetype": "text/x-python",
   "name": "python",
   "nbconvert_exporter": "python",
   "pygments_lexer": "ipython3",
   "version": "3.9.13"
  }
 },
 "nbformat": 4,
 "nbformat_minor": 5
}
